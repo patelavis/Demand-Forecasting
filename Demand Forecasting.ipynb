{
 "cells": [
  {
   "cell_type": "markdown",
   "id": "8c506923",
   "metadata": {},
   "source": [
    "# Tredence Data Scientist Hiring Challenge"
   ]
  },
  {
   "cell_type": "markdown",
   "id": "69eb78e4",
   "metadata": {},
   "source": [
    "**Demand Forecasting :-**\n",
    "_You are working as a data scientist in a CPG firm. The company holds warehouses in various cities across the country. Different items are sent to these warehouses on a weekly basis and from where they are distributed to various small stores on a daily basis._\n",
    "\n",
    "_To increase the efficiency of this process, the management has decided to build software that can forecast weekly and daily demand in advance._"
   ]
  },
  {
   "cell_type": "markdown",
   "id": "f6843e8a",
   "metadata": {},
   "source": [
    "**Task :-** You are given a relevant dataset about the demand for products in the warehouses. You are required to build a machine learning model that can forecast weekly as well as daily demand. \n",
    "\n",
    "* **Notes:-** \n",
    " * Your model will be evaluated on the basis of predicted weekly_dispatch_count, However, you are also required to analyze and forecast the daily_dispatch_count for the test data. \n",
    " * You must create an ipython notebook containing your analysis and approach for the given task and upload it by clicking the Upload Source Code button. \n",
    "\n",
    "* _Dataset description The dataset folder contains the following files:_\n",
    "   * train.csv. 16644 x 12 \n",
    "   * test.csv: 4900 x 10 \n",
    "   * submission_weekly.csv: 700 x 2 "
   ]
  },
  {
   "cell_type": "markdown",
   "id": "f443ec0c",
   "metadata": {},
   "source": [
    "**The columns provided in the dataset are as follows:**\n",
    "\n",
    "|Column name |Description|\n",
    "|:----------:|:-----------|\n",
    "|ID |Represents the unique identification of each entry| \n",
    "|date |Represents the date in \"yyyy-mm-dd\" format| \n",
    "|warehouse_ID|Represents the unique identification of a warehouse|\n",
    "|Latitude |Represents the latitude of the warehouse| \n",
    "|Longitude |Represents the longitude of the warehouse| \n",
    "|Product Type |Represents the type of a product ( Type_A or Type_B)|\n",
    "|year |Represents the current year| \n",
    "|month |Represents the current month of the year| \n",
    "|is_weekend |Represents whether the day is weekend or not| \n",
    "|is_warehouse_closed |Represents whether the warehouse is closed or not|\n",
    "|daily_dispatch_count |Represents the number of items of a specific product type that are dispatched (in thousands) from a specific warehouse on a specific day| \n",
    "|weekly_dispatch_count |Represents the number of items of a specific product type that are dispatched (in thousands) from a specific warehouse in the corresponding week, **Note:** The weekly_dispatch_count is calculated on Sundays.|"
   ]
  },
  {
   "cell_type": "markdown",
   "id": "d462cb4b",
   "metadata": {},
   "source": [
    "**Evaluation metric :-** \n",
    "_**The evaluation metric for this challenge will be mean_absolute_percentage_error.**_  \n",
    "`score = max( 0 , 100*(1 metrics.mean_absolute_percentage_error (actual ,predicted)))`"
   ]
  },
  {
   "cell_type": "markdown",
   "id": "1f83151d",
   "metadata": {},
   "source": [
    "## Data Import & Data Cleaning and Fill Missing Value"
   ]
  },
  {
   "cell_type": "markdown",
   "id": "89fefcc9",
   "metadata": {},
   "source": [
    "### Data Import"
   ]
  },
  {
   "cell_type": "markdown",
   "id": "97dad989",
   "metadata": {},
   "source": [
    "**Import necessary libraries**"
   ]
  },
  {
   "cell_type": "code",
   "execution_count": 1,
   "id": "81119c19",
   "metadata": {
    "ExecuteTime": {
     "end_time": "2022-04-30T14:15:38.213808Z",
     "start_time": "2022-04-30T14:15:35.602691Z"
    }
   },
   "outputs": [],
   "source": [
    "import pandas as pd\n",
    "import numpy as np\n",
    "import seaborn as sns\n",
    "import matplotlib.pyplot as plt"
   ]
  },
  {
   "cell_type": "markdown",
   "id": "06c05c34",
   "metadata": {},
   "source": [
    "Import data from dataset folder..."
   ]
  },
  {
   "cell_type": "code",
   "execution_count": 2,
   "id": "8e664f37",
   "metadata": {
    "ExecuteTime": {
     "end_time": "2022-04-30T14:15:38.277684Z",
     "start_time": "2022-04-30T14:15:38.217698Z"
    }
   },
   "outputs": [],
   "source": [
    "df_train = pd.read_csv('dataset/train.csv')\n",
    "df_test = pd.read_csv('dataset/test.csv')"
   ]
  },
  {
   "cell_type": "markdown",
   "id": "c88d9134",
   "metadata": {},
   "source": [
    "Check dataset information"
   ]
  },
  {
   "cell_type": "code",
   "execution_count": 3,
   "id": "cabad696",
   "metadata": {
    "ExecuteTime": {
     "end_time": "2022-04-30T14:15:38.325507Z",
     "start_time": "2022-04-30T14:15:38.279533Z"
    }
   },
   "outputs": [
    {
     "name": "stdout",
     "output_type": "stream",
     "text": [
      "<class 'pandas.core.frame.DataFrame'>\n",
      "RangeIndex: 16644 entries, 0 to 16643\n",
      "Data columns (total 12 columns):\n",
      " #   Column                 Non-Null Count  Dtype  \n",
      "---  ------                 --------------  -----  \n",
      " 0   ID                     16644 non-null  object \n",
      " 1   date                   16644 non-null  object \n",
      " 2   warehouse_ID           16644 non-null  object \n",
      " 3   Latitude               16312 non-null  float64\n",
      " 4   Longitude              16228 non-null  float64\n",
      " 5   Product_Type           16644 non-null  object \n",
      " 6   year                   16644 non-null  int64  \n",
      " 7   month                  16644 non-null  object \n",
      " 8   is_weekend             16145 non-null  object \n",
      " 9   is_warehouse_closed    16478 non-null  object \n",
      " 10  daily_dispatch_count   16644 non-null  float64\n",
      " 11  weekly_dispatch_count  2372 non-null   float64\n",
      "dtypes: float64(4), int64(1), object(7)\n",
      "memory usage: 1.5+ MB\n",
      "<class 'pandas.core.frame.DataFrame'>\n",
      "RangeIndex: 4900 entries, 0 to 4899\n",
      "Data columns (total 10 columns):\n",
      " #   Column               Non-Null Count  Dtype  \n",
      "---  ------               --------------  -----  \n",
      " 0   ID                   4900 non-null   object \n",
      " 1   date                 4900 non-null   object \n",
      " 2   warehouse_ID         4900 non-null   object \n",
      " 3   Latitude             4802 non-null   float64\n",
      " 4   Longitude            4778 non-null   float64\n",
      " 5   Product_Type         4900 non-null   object \n",
      " 6   year                 4900 non-null   int64  \n",
      " 7   month                4900 non-null   object \n",
      " 8   is_weekend           4753 non-null   object \n",
      " 9   is_warehouse_closed  4851 non-null   object \n",
      "dtypes: float64(2), int64(1), object(7)\n",
      "memory usage: 382.9+ KB\n"
     ]
    },
    {
     "data": {
      "text/plain": [
       "(None, None)"
      ]
     },
     "execution_count": 3,
     "metadata": {},
     "output_type": "execute_result"
    }
   ],
   "source": [
    "df_train.info(), df_test.info()"
   ]
  },
  {
   "cell_type": "markdown",
   "id": "8961dda9",
   "metadata": {},
   "source": [
    "Print out all data from test dataframe"
   ]
  },
  {
   "cell_type": "code",
   "execution_count": 4,
   "id": "c70d7cfe",
   "metadata": {
    "ExecuteTime": {
     "end_time": "2022-04-30T14:15:38.357360Z",
     "start_time": "2022-04-30T14:15:38.329397Z"
    },
    "scrolled": false
   },
   "outputs": [
    {
     "data": {
      "text/html": [
       "<div>\n",
       "<style scoped>\n",
       "    .dataframe tbody tr th:only-of-type {\n",
       "        vertical-align: middle;\n",
       "    }\n",
       "\n",
       "    .dataframe tbody tr th {\n",
       "        vertical-align: top;\n",
       "    }\n",
       "\n",
       "    .dataframe thead th {\n",
       "        text-align: right;\n",
       "    }\n",
       "</style>\n",
       "<table border=\"1\" class=\"dataframe\">\n",
       "  <thead>\n",
       "    <tr style=\"text-align: right;\">\n",
       "      <th></th>\n",
       "      <th>ID</th>\n",
       "      <th>date</th>\n",
       "      <th>warehouse_ID</th>\n",
       "      <th>Latitude</th>\n",
       "      <th>Longitude</th>\n",
       "      <th>Product_Type</th>\n",
       "      <th>year</th>\n",
       "      <th>month</th>\n",
       "      <th>is_weekend</th>\n",
       "      <th>is_warehouse_closed</th>\n",
       "      <th>daily_dispatch_count</th>\n",
       "      <th>weekly_dispatch_count</th>\n",
       "    </tr>\n",
       "  </thead>\n",
       "  <tbody>\n",
       "    <tr>\n",
       "      <th>0</th>\n",
       "      <td>0x2710</td>\n",
       "      <td>2017-01-01</td>\n",
       "      <td>WH_0x3e9</td>\n",
       "      <td>41.681471</td>\n",
       "      <td>-72.794746</td>\n",
       "      <td>Type_A</td>\n",
       "      <td>2017</td>\n",
       "      <td>January</td>\n",
       "      <td>Yes</td>\n",
       "      <td>No</td>\n",
       "      <td>5.5</td>\n",
       "      <td>5.5</td>\n",
       "    </tr>\n",
       "    <tr>\n",
       "      <th>1</th>\n",
       "      <td>0x33e6</td>\n",
       "      <td>2017-01-01</td>\n",
       "      <td>WH_0x3ea</td>\n",
       "      <td>38.749077</td>\n",
       "      <td>-105.183060</td>\n",
       "      <td>Type_A</td>\n",
       "      <td>2017</td>\n",
       "      <td>January</td>\n",
       "      <td>Yes</td>\n",
       "      <td>No</td>\n",
       "      <td>6.1</td>\n",
       "      <td>6.1</td>\n",
       "    </tr>\n",
       "    <tr>\n",
       "      <th>2</th>\n",
       "      <td>0x2711</td>\n",
       "      <td>2017-01-02</td>\n",
       "      <td>WH_0x3e9</td>\n",
       "      <td>41.681471</td>\n",
       "      <td>-72.794746</td>\n",
       "      <td>Type_A</td>\n",
       "      <td>2017</td>\n",
       "      <td>January</td>\n",
       "      <td>No</td>\n",
       "      <td>No</td>\n",
       "      <td>4.8</td>\n",
       "      <td>NaN</td>\n",
       "    </tr>\n",
       "    <tr>\n",
       "      <th>3</th>\n",
       "      <td>0x33e7</td>\n",
       "      <td>2017-01-02</td>\n",
       "      <td>WH_0x3ea</td>\n",
       "      <td>38.749077</td>\n",
       "      <td>-105.183060</td>\n",
       "      <td>Type_A</td>\n",
       "      <td>2017</td>\n",
       "      <td>January</td>\n",
       "      <td>No</td>\n",
       "      <td>No</td>\n",
       "      <td>6.7</td>\n",
       "      <td>NaN</td>\n",
       "    </tr>\n",
       "    <tr>\n",
       "      <th>4</th>\n",
       "      <td>0x2712</td>\n",
       "      <td>2017-01-03</td>\n",
       "      <td>WH_0x3e9</td>\n",
       "      <td>41.681471</td>\n",
       "      <td>-72.794746</td>\n",
       "      <td>Type_A</td>\n",
       "      <td>2017</td>\n",
       "      <td>January</td>\n",
       "      <td>No</td>\n",
       "      <td>No</td>\n",
       "      <td>5.8</td>\n",
       "      <td>NaN</td>\n",
       "    </tr>\n",
       "    <tr>\n",
       "      <th>...</th>\n",
       "      <td>...</td>\n",
       "      <td>...</td>\n",
       "      <td>...</td>\n",
       "      <td>...</td>\n",
       "      <td>...</td>\n",
       "      <td>...</td>\n",
       "      <td>...</td>\n",
       "      <td>...</td>\n",
       "      <td>...</td>\n",
       "      <td>...</td>\n",
       "      <td>...</td>\n",
       "      <td>...</td>\n",
       "    </tr>\n",
       "    <tr>\n",
       "      <th>16639</th>\n",
       "      <td>0x6f53</td>\n",
       "      <td>2021-04-30</td>\n",
       "      <td>WH_0x3f0</td>\n",
       "      <td>37.915825</td>\n",
       "      <td>-89.829262</td>\n",
       "      <td>Type_B</td>\n",
       "      <td>2021</td>\n",
       "      <td>April</td>\n",
       "      <td>No</td>\n",
       "      <td>No</td>\n",
       "      <td>0.2</td>\n",
       "      <td>NaN</td>\n",
       "    </tr>\n",
       "    <tr>\n",
       "      <th>16640</th>\n",
       "      <td>0x74c8</td>\n",
       "      <td>2021-04-30</td>\n",
       "      <td>WH_0x3f1</td>\n",
       "      <td>48.692551</td>\n",
       "      <td>-116.319862</td>\n",
       "      <td>Type_A</td>\n",
       "      <td>2021</td>\n",
       "      <td>April</td>\n",
       "      <td>No</td>\n",
       "      <td>No</td>\n",
       "      <td>12.3</td>\n",
       "      <td>NaN</td>\n",
       "    </tr>\n",
       "    <tr>\n",
       "      <th>16641</th>\n",
       "      <td>0x74c9</td>\n",
       "      <td>2021-04-30</td>\n",
       "      <td>WH_0x3f1</td>\n",
       "      <td>48.692551</td>\n",
       "      <td>-116.319862</td>\n",
       "      <td>Type_B</td>\n",
       "      <td>2021</td>\n",
       "      <td>April</td>\n",
       "      <td>No</td>\n",
       "      <td>No</td>\n",
       "      <td>3.3</td>\n",
       "      <td>NaN</td>\n",
       "    </tr>\n",
       "    <tr>\n",
       "      <th>16642</th>\n",
       "      <td>0x794c</td>\n",
       "      <td>2021-04-30</td>\n",
       "      <td>WH_0x3f2</td>\n",
       "      <td>61.600803</td>\n",
       "      <td>-149.125259</td>\n",
       "      <td>Type_A</td>\n",
       "      <td>2021</td>\n",
       "      <td>April</td>\n",
       "      <td>No</td>\n",
       "      <td>No</td>\n",
       "      <td>7.1</td>\n",
       "      <td>NaN</td>\n",
       "    </tr>\n",
       "    <tr>\n",
       "      <th>16643</th>\n",
       "      <td>0x794d</td>\n",
       "      <td>2021-04-30</td>\n",
       "      <td>WH_0x3f2</td>\n",
       "      <td>61.600803</td>\n",
       "      <td>-149.125259</td>\n",
       "      <td>Type_B</td>\n",
       "      <td>2021</td>\n",
       "      <td>April</td>\n",
       "      <td>No</td>\n",
       "      <td>No</td>\n",
       "      <td>3.4</td>\n",
       "      <td>NaN</td>\n",
       "    </tr>\n",
       "  </tbody>\n",
       "</table>\n",
       "<p>16644 rows × 12 columns</p>\n",
       "</div>"
      ],
      "text/plain": [
       "           ID        date warehouse_ID   Latitude   Longitude Product_Type  \\\n",
       "0      0x2710  2017-01-01     WH_0x3e9  41.681471  -72.794746       Type_A   \n",
       "1      0x33e6  2017-01-01     WH_0x3ea  38.749077 -105.183060       Type_A   \n",
       "2      0x2711  2017-01-02     WH_0x3e9  41.681471  -72.794746       Type_A   \n",
       "3      0x33e7  2017-01-02     WH_0x3ea  38.749077 -105.183060       Type_A   \n",
       "4      0x2712  2017-01-03     WH_0x3e9  41.681471  -72.794746       Type_A   \n",
       "...       ...         ...          ...        ...         ...          ...   \n",
       "16639  0x6f53  2021-04-30     WH_0x3f0  37.915825  -89.829262       Type_B   \n",
       "16640  0x74c8  2021-04-30     WH_0x3f1  48.692551 -116.319862       Type_A   \n",
       "16641  0x74c9  2021-04-30     WH_0x3f1  48.692551 -116.319862       Type_B   \n",
       "16642  0x794c  2021-04-30     WH_0x3f2  61.600803 -149.125259       Type_A   \n",
       "16643  0x794d  2021-04-30     WH_0x3f2  61.600803 -149.125259       Type_B   \n",
       "\n",
       "       year    month is_weekend is_warehouse_closed  daily_dispatch_count  \\\n",
       "0      2017  January        Yes                  No                   5.5   \n",
       "1      2017  January        Yes                  No                   6.1   \n",
       "2      2017  January         No                  No                   4.8   \n",
       "3      2017  January         No                  No                   6.7   \n",
       "4      2017  January         No                  No                   5.8   \n",
       "...     ...      ...        ...                 ...                   ...   \n",
       "16639  2021    April         No                  No                   0.2   \n",
       "16640  2021    April         No                  No                  12.3   \n",
       "16641  2021    April         No                  No                   3.3   \n",
       "16642  2021    April         No                  No                   7.1   \n",
       "16643  2021    April         No                  No                   3.4   \n",
       "\n",
       "       weekly_dispatch_count  \n",
       "0                        5.5  \n",
       "1                        6.1  \n",
       "2                        NaN  \n",
       "3                        NaN  \n",
       "4                        NaN  \n",
       "...                      ...  \n",
       "16639                    NaN  \n",
       "16640                    NaN  \n",
       "16641                    NaN  \n",
       "16642                    NaN  \n",
       "16643                    NaN  \n",
       "\n",
       "[16644 rows x 12 columns]"
      ]
     },
     "execution_count": 4,
     "metadata": {},
     "output_type": "execute_result"
    }
   ],
   "source": [
    "df_train"
   ]
  },
  {
   "cell_type": "markdown",
   "id": "a84f494b",
   "metadata": {},
   "source": [
    "> Now check one-by-one all columns data and find some patten..."
   ]
  },
  {
   "cell_type": "markdown",
   "id": "30c6b507",
   "metadata": {},
   "source": [
    "### ID\n",
    "Represents the unique identification of each entry"
   ]
  },
  {
   "cell_type": "markdown",
   "id": "bf6c21a9",
   "metadata": {},
   "source": [
    "How many different `ID` are presents ?"
   ]
  },
  {
   "cell_type": "code",
   "execution_count": 5,
   "id": "72bcd43c",
   "metadata": {
    "ExecuteTime": {
     "end_time": "2022-04-30T14:15:38.373315Z",
     "start_time": "2022-04-30T14:15:38.360316Z"
    }
   },
   "outputs": [
    {
     "data": {
      "text/plain": [
       "16644"
      ]
     },
     "execution_count": 5,
     "metadata": {},
     "output_type": "execute_result"
    }
   ],
   "source": [
    "len(df_train['ID'].unique())"
   ]
  },
  {
   "cell_type": "markdown",
   "id": "298b48bb",
   "metadata": {},
   "source": [
    "There are `ID` are unique for each individual entry. So, we can use as Index or either drop it, because is not impact on target columns."
   ]
  },
  {
   "cell_type": "markdown",
   "id": "8458ab40",
   "metadata": {},
   "source": [
    "### Date\n",
    "Represents the date in \"yyyy-mm-dd\" format"
   ]
  },
  {
   "cell_type": "markdown",
   "id": "28ca04e7",
   "metadata": {},
   "source": [
    "first check date datatype"
   ]
  },
  {
   "cell_type": "code",
   "execution_count": 6,
   "id": "d0990c91",
   "metadata": {
    "ExecuteTime": {
     "end_time": "2022-04-30T14:15:38.389381Z",
     "start_time": "2022-04-30T14:15:38.377517Z"
    }
   },
   "outputs": [
    {
     "data": {
      "text/plain": [
       "dtype('O')"
      ]
     },
     "execution_count": 6,
     "metadata": {},
     "output_type": "execute_result"
    }
   ],
   "source": [
    "df_train['date'].dtype"
   ]
  },
  {
   "cell_type": "markdown",
   "id": "b2325f2c",
   "metadata": {},
   "source": [
    "It's object so we have to change in datetime format"
   ]
  },
  {
   "cell_type": "code",
   "execution_count": 7,
   "id": "cc11d640",
   "metadata": {
    "ExecuteTime": {
     "end_time": "2022-04-30T14:15:38.421152Z",
     "start_time": "2022-04-30T14:15:38.392230Z"
    }
   },
   "outputs": [],
   "source": [
    "df_train['date'] = pd.DatetimeIndex(df_train['date'])"
   ]
  },
  {
   "cell_type": "markdown",
   "id": "a95e75e7",
   "metadata": {},
   "source": [
    "### Warehouse ID\n",
    "Represents the unique identification of a warehouse"
   ]
  },
  {
   "cell_type": "markdown",
   "id": "63dd8272",
   "metadata": {},
   "source": [
    "How many warehouse are presents ?"
   ]
  },
  {
   "cell_type": "code",
   "execution_count": 8,
   "id": "c59993ca",
   "metadata": {
    "ExecuteTime": {
     "end_time": "2022-04-30T14:15:38.437108Z",
     "start_time": "2022-04-30T14:15:38.423147Z"
    }
   },
   "outputs": [
    {
     "data": {
      "text/plain": [
       "10"
      ]
     },
     "execution_count": 8,
     "metadata": {},
     "output_type": "execute_result"
    }
   ],
   "source": [
    "len(df_train['warehouse_ID'].unique())"
   ]
  },
  {
   "cell_type": "code",
   "execution_count": 9,
   "id": "dca4029e",
   "metadata": {
    "ExecuteTime": {
     "end_time": "2022-04-30T14:15:38.453066Z",
     "start_time": "2022-04-30T14:15:38.440102Z"
    }
   },
   "outputs": [
    {
     "data": {
      "text/plain": [
       "array(['WH_0x3e9', 'WH_0x3ea', 'WH_0x3eb', 'WH_0x3ec', 'WH_0x3ed',\n",
       "       'WH_0x3ee', 'WH_0x3ef', 'WH_0x3f1', 'WH_0x3f0', 'WH_0x3f2'],\n",
       "      dtype=object)"
      ]
     },
     "execution_count": 9,
     "metadata": {},
     "output_type": "execute_result"
    }
   ],
   "source": [
    "df_train['warehouse_ID'].unique()"
   ]
  },
  {
   "cell_type": "markdown",
   "id": "c8c4f91f",
   "metadata": {},
   "source": [
    "Now, how many null value are presents in warehouse column ?"
   ]
  },
  {
   "cell_type": "code",
   "execution_count": 10,
   "id": "bcfae6ee",
   "metadata": {
    "ExecuteTime": {
     "end_time": "2022-04-30T14:15:38.469128Z",
     "start_time": "2022-04-30T14:15:38.458055Z"
    }
   },
   "outputs": [
    {
     "data": {
      "text/plain": [
       "0"
      ]
     },
     "execution_count": 10,
     "metadata": {},
     "output_type": "execute_result"
    }
   ],
   "source": [
    "df_train['warehouse_ID'].isna().sum()"
   ]
  },
  {
   "cell_type": "markdown",
   "id": "1ade6947",
   "metadata": {},
   "source": [
    "### Latitude & Longitude\n",
    "Represents the latitude and longitude of the warehouse"
   ]
  },
  {
   "cell_type": "markdown",
   "id": "3cd52c18",
   "metadata": {},
   "source": [
    "How many different Latitude present in dataframe ?"
   ]
  },
  {
   "cell_type": "code",
   "execution_count": 11,
   "id": "71a205fb",
   "metadata": {
    "ExecuteTime": {
     "end_time": "2022-04-30T14:15:38.484981Z",
     "start_time": "2022-04-30T14:15:38.472016Z"
    }
   },
   "outputs": [
    {
     "data": {
      "text/plain": [
       "11"
      ]
     },
     "execution_count": 11,
     "metadata": {},
     "output_type": "execute_result"
    }
   ],
   "source": [
    "len(df_train['Latitude'].unique())"
   ]
  },
  {
   "cell_type": "code",
   "execution_count": 12,
   "id": "2cfca1bc",
   "metadata": {
    "ExecuteTime": {
     "end_time": "2022-04-30T14:15:38.500938Z",
     "start_time": "2022-04-30T14:15:38.486977Z"
    }
   },
   "outputs": [
    {
     "data": {
      "text/plain": [
       "array([41.681471, 38.749077,       nan, 35.67897 , 34.361664, 25.750156,\n",
       "       30.189375, 41.611603, 48.692551, 37.915825, 61.600803])"
      ]
     },
     "execution_count": 12,
     "metadata": {},
     "output_type": "execute_result"
    }
   ],
   "source": [
    "df_train['Latitude'].unique()"
   ]
  },
  {
   "cell_type": "markdown",
   "id": "2c33ab5f",
   "metadata": {},
   "source": [
    "There is `nan` value is present in this column."
   ]
  },
  {
   "cell_type": "markdown",
   "id": "40569898",
   "metadata": {},
   "source": [
    "Create dictionary according to warehouse latitude data..."
   ]
  },
  {
   "cell_type": "code",
   "execution_count": 13,
   "id": "64360ca8",
   "metadata": {
    "ExecuteTime": {
     "end_time": "2022-04-30T14:15:38.595686Z",
     "start_time": "2022-04-30T14:15:38.503932Z"
    },
    "scrolled": false
   },
   "outputs": [],
   "source": [
    "latitude_warehouse_ID = {}\n",
    "for i in range(len(df_train)):\n",
    "    if df_train['warehouse_ID'][i] not in latitude_warehouse_ID:\n",
    "        latitude_warehouse_ID[df_train['warehouse_ID'][i]] = df_train['Latitude'][i]"
   ]
  },
  {
   "cell_type": "code",
   "execution_count": 14,
   "id": "a49eba43",
   "metadata": {
    "ExecuteTime": {
     "end_time": "2022-04-30T14:15:38.611643Z",
     "start_time": "2022-04-30T14:15:38.598678Z"
    }
   },
   "outputs": [
    {
     "data": {
      "text/plain": [
       "{'WH_0x3e9': 41.681471,\n",
       " 'WH_0x3ea': 38.749077,\n",
       " 'WH_0x3eb': 35.67897,\n",
       " 'WH_0x3ec': 34.361664000000005,\n",
       " 'WH_0x3ed': 25.750156,\n",
       " 'WH_0x3ee': 30.189375,\n",
       " 'WH_0x3ef': 41.611603,\n",
       " 'WH_0x3f1': 48.692551,\n",
       " 'WH_0x3f0': 37.915825,\n",
       " 'WH_0x3f2': 61.600803000000006}"
      ]
     },
     "execution_count": 14,
     "metadata": {},
     "output_type": "execute_result"
    }
   ],
   "source": [
    "latitude_warehouse_ID"
   ]
  },
  {
   "cell_type": "markdown",
   "id": "fde27187",
   "metadata": {},
   "source": [
    "How many different Longitude present in dataframe ?"
   ]
  },
  {
   "cell_type": "code",
   "execution_count": 15,
   "id": "4fed3960",
   "metadata": {
    "ExecuteTime": {
     "end_time": "2022-04-30T14:15:38.627654Z",
     "start_time": "2022-04-30T14:15:38.614635Z"
    }
   },
   "outputs": [
    {
     "data": {
      "text/plain": [
       "11"
      ]
     },
     "execution_count": 15,
     "metadata": {},
     "output_type": "execute_result"
    }
   ],
   "source": [
    "len(df_train['Longitude'].unique())"
   ]
  },
  {
   "cell_type": "code",
   "execution_count": 16,
   "id": "3691e5ca",
   "metadata": {
    "ExecuteTime": {
     "end_time": "2022-04-30T14:15:38.643558Z",
     "start_time": "2022-04-30T14:15:38.631589Z"
    }
   },
   "outputs": [
    {
     "data": {
      "text/plain": [
       "array([ -72.794746, -105.18306 ,         nan, -109.067413,  -86.305595,\n",
       "        -80.27964 ,  -82.648254,  -87.551186, -116.319862,  -89.829262,\n",
       "       -149.125259])"
      ]
     },
     "execution_count": 16,
     "metadata": {},
     "output_type": "execute_result"
    }
   ],
   "source": [
    "df_train['Longitude'].unique()"
   ]
  },
  {
   "cell_type": "markdown",
   "id": "ac6933e7",
   "metadata": {},
   "source": [
    "There is `nan` value is present in this column."
   ]
  },
  {
   "cell_type": "markdown",
   "id": "3f6875fd",
   "metadata": {
    "ExecuteTime": {
     "end_time": "2022-04-20T09:41:30.341034Z",
     "start_time": "2022-04-20T09:41:30.325412Z"
    }
   },
   "source": [
    "Create dictionary according to warehouse longitude data..."
   ]
  },
  {
   "cell_type": "code",
   "execution_count": 17,
   "id": "9a956d3c",
   "metadata": {
    "ExecuteTime": {
     "end_time": "2022-04-30T14:15:39.053849Z",
     "start_time": "2022-04-30T14:15:38.646632Z"
    }
   },
   "outputs": [],
   "source": [
    "longitude_warehouse_ID = {}\n",
    "for i in range(len(df_train)):\n",
    "    if df_train['warehouse_ID'][i] not in longitude_warehouse_ID or df_train['Longitude'][i] != np.nan:\n",
    "        longitude_warehouse_ID[df_train['warehouse_ID'][i]] = df_train['Longitude'][i]"
   ]
  },
  {
   "cell_type": "code",
   "execution_count": 18,
   "id": "d1703061",
   "metadata": {
    "ExecuteTime": {
     "end_time": "2022-04-30T14:15:39.069860Z",
     "start_time": "2022-04-30T14:15:39.056842Z"
    }
   },
   "outputs": [
    {
     "data": {
      "text/plain": [
       "{'WH_0x3e9': -72.79474599999999,\n",
       " 'WH_0x3ea': -105.18306,\n",
       " 'WH_0x3eb': -109.067413,\n",
       " 'WH_0x3ec': -86.305595,\n",
       " 'WH_0x3ed': -80.27964,\n",
       " 'WH_0x3ee': -82.64825400000001,\n",
       " 'WH_0x3ef': -87.551186,\n",
       " 'WH_0x3f1': -116.319862,\n",
       " 'WH_0x3f0': -89.829262,\n",
       " 'WH_0x3f2': -149.125259}"
      ]
     },
     "execution_count": 18,
     "metadata": {},
     "output_type": "execute_result"
    }
   ],
   "source": [
    "longitude_warehouse_ID"
   ]
  },
  {
   "cell_type": "markdown",
   "id": "c29ca7a8",
   "metadata": {},
   "source": [
    "Now replace null value in Latitude and Longitude column according warehouse_ID..."
   ]
  },
  {
   "cell_type": "code",
   "execution_count": 19,
   "id": "e8fca6dd",
   "metadata": {
    "ExecuteTime": {
     "end_time": "2022-04-30T14:15:39.689150Z",
     "start_time": "2022-04-30T14:15:39.072803Z"
    },
    "scrolled": true
   },
   "outputs": [],
   "source": [
    "for i in range(len(df_train)):\n",
    "    if str(df_train['Latitude'][i]) == 'nan':\n",
    "        df_train.loc[i,'Latitude'] = latitude_warehouse_ID[df_train['warehouse_ID'][i]]\n",
    "    if str(df_train['Longitude'][i]) == 'nan':\n",
    "        df_train.loc[i,'Longitude'] = longitude_warehouse_ID[df_train['warehouse_ID'][i]]"
   ]
  },
  {
   "cell_type": "markdown",
   "id": "ab22d84a",
   "metadata": {},
   "source": [
    "Now, make dataframe for get all location of warehouse are present by using folium library"
   ]
  },
  {
   "cell_type": "code",
   "execution_count": 20,
   "id": "3a65cf51",
   "metadata": {
    "ExecuteTime": {
     "end_time": "2022-04-30T14:15:39.705144Z",
     "start_time": "2022-04-30T14:15:39.692143Z"
    }
   },
   "outputs": [
    {
     "data": {
      "text/html": [
       "<div>\n",
       "<style scoped>\n",
       "    .dataframe tbody tr th:only-of-type {\n",
       "        vertical-align: middle;\n",
       "    }\n",
       "\n",
       "    .dataframe tbody tr th {\n",
       "        vertical-align: top;\n",
       "    }\n",
       "\n",
       "    .dataframe thead th {\n",
       "        text-align: right;\n",
       "    }\n",
       "</style>\n",
       "<table border=\"1\" class=\"dataframe\">\n",
       "  <thead>\n",
       "    <tr style=\"text-align: right;\">\n",
       "      <th></th>\n",
       "      <th>index</th>\n",
       "      <th>Latitude</th>\n",
       "      <th>Longitude</th>\n",
       "    </tr>\n",
       "  </thead>\n",
       "  <tbody>\n",
       "    <tr>\n",
       "      <th>0</th>\n",
       "      <td>WH_0x3e9</td>\n",
       "      <td>41.681471</td>\n",
       "      <td>-72.794746</td>\n",
       "    </tr>\n",
       "    <tr>\n",
       "      <th>1</th>\n",
       "      <td>WH_0x3ea</td>\n",
       "      <td>38.749077</td>\n",
       "      <td>-105.183060</td>\n",
       "    </tr>\n",
       "    <tr>\n",
       "      <th>2</th>\n",
       "      <td>WH_0x3eb</td>\n",
       "      <td>35.678970</td>\n",
       "      <td>-109.067413</td>\n",
       "    </tr>\n",
       "    <tr>\n",
       "      <th>3</th>\n",
       "      <td>WH_0x3ec</td>\n",
       "      <td>34.361664</td>\n",
       "      <td>-86.305595</td>\n",
       "    </tr>\n",
       "    <tr>\n",
       "      <th>4</th>\n",
       "      <td>WH_0x3ed</td>\n",
       "      <td>25.750156</td>\n",
       "      <td>-80.279640</td>\n",
       "    </tr>\n",
       "    <tr>\n",
       "      <th>5</th>\n",
       "      <td>WH_0x3ee</td>\n",
       "      <td>30.189375</td>\n",
       "      <td>-82.648254</td>\n",
       "    </tr>\n",
       "    <tr>\n",
       "      <th>6</th>\n",
       "      <td>WH_0x3ef</td>\n",
       "      <td>41.611603</td>\n",
       "      <td>-87.551186</td>\n",
       "    </tr>\n",
       "    <tr>\n",
       "      <th>7</th>\n",
       "      <td>WH_0x3f1</td>\n",
       "      <td>48.692551</td>\n",
       "      <td>-116.319862</td>\n",
       "    </tr>\n",
       "    <tr>\n",
       "      <th>8</th>\n",
       "      <td>WH_0x3f0</td>\n",
       "      <td>37.915825</td>\n",
       "      <td>-89.829262</td>\n",
       "    </tr>\n",
       "    <tr>\n",
       "      <th>9</th>\n",
       "      <td>WH_0x3f2</td>\n",
       "      <td>61.600803</td>\n",
       "      <td>-149.125259</td>\n",
       "    </tr>\n",
       "  </tbody>\n",
       "</table>\n",
       "</div>"
      ],
      "text/plain": [
       "      index   Latitude   Longitude\n",
       "0  WH_0x3e9  41.681471  -72.794746\n",
       "1  WH_0x3ea  38.749077 -105.183060\n",
       "2  WH_0x3eb  35.678970 -109.067413\n",
       "3  WH_0x3ec  34.361664  -86.305595\n",
       "4  WH_0x3ed  25.750156  -80.279640\n",
       "5  WH_0x3ee  30.189375  -82.648254\n",
       "6  WH_0x3ef  41.611603  -87.551186\n",
       "7  WH_0x3f1  48.692551 -116.319862\n",
       "8  WH_0x3f0  37.915825  -89.829262\n",
       "9  WH_0x3f2  61.600803 -149.125259"
      ]
     },
     "execution_count": 20,
     "metadata": {},
     "output_type": "execute_result"
    }
   ],
   "source": [
    "m_df = pd.DataFrame(index=latitude_warehouse_ID.keys(), data=latitude_warehouse_ID.values(), columns=['Latitude'])\n",
    "m_df['Longitude'] = longitude_warehouse_ID.values()\n",
    "m_df.reset_index(inplace=True)\n",
    "m_df"
   ]
  },
  {
   "cell_type": "code",
   "execution_count": 21,
   "id": "09e37f41",
   "metadata": {
    "ExecuteTime": {
     "end_time": "2022-04-30T14:15:39.721081Z",
     "start_time": "2022-04-30T14:15:39.708100Z"
    }
   },
   "outputs": [
    {
     "data": {
      "text/plain": [
       "dict_keys(['WH_0x3e9', 'WH_0x3ea', 'WH_0x3eb', 'WH_0x3ec', 'WH_0x3ed', 'WH_0x3ee', 'WH_0x3ef', 'WH_0x3f1', 'WH_0x3f0', 'WH_0x3f2'])"
      ]
     },
     "execution_count": 21,
     "metadata": {},
     "output_type": "execute_result"
    }
   ],
   "source": [
    "latitude_warehouse_ID.keys()"
   ]
  },
  {
   "cell_type": "code",
   "execution_count": 22,
   "id": "8b6b6107",
   "metadata": {
    "ExecuteTime": {
     "end_time": "2022-04-30T14:15:40.225847Z",
     "start_time": "2022-04-30T14:15:39.724284Z"
    },
    "scrolled": false
   },
   "outputs": [
    {
     "data": {
      "text/html": [
       "<div style=\"width:100%;\"><div style=\"position:relative;width:100%;height:0;padding-bottom:60%;\"><span style=\"color:#565656\">Make this Notebook Trusted to load map: File -> Trust Notebook</span><iframe src=\"about:blank\" style=\"position:absolute;width:100%;height:100%;left:0;top:0;border:none !important;\" data-html=%3C%21DOCTYPE%20html%3E%0A%3Chead%3E%20%20%20%20%0A%20%20%20%20%3Cmeta%20http-equiv%3D%22content-type%22%20content%3D%22text/html%3B%20charset%3DUTF-8%22%20/%3E%0A%20%20%20%20%0A%20%20%20%20%20%20%20%20%3Cscript%3E%0A%20%20%20%20%20%20%20%20%20%20%20%20L_NO_TOUCH%20%3D%20false%3B%0A%20%20%20%20%20%20%20%20%20%20%20%20L_DISABLE_3D%20%3D%20false%3B%0A%20%20%20%20%20%20%20%20%3C/script%3E%0A%20%20%20%20%0A%20%20%20%20%3Cstyle%3Ehtml%2C%20body%20%7Bwidth%3A%20100%25%3Bheight%3A%20100%25%3Bmargin%3A%200%3Bpadding%3A%200%3B%7D%3C/style%3E%0A%20%20%20%20%3Cstyle%3E%23map%20%7Bposition%3Aabsolute%3Btop%3A0%3Bbottom%3A0%3Bright%3A0%3Bleft%3A0%3B%7D%3C/style%3E%0A%20%20%20%20%3Cscript%20src%3D%22https%3A//cdn.jsdelivr.net/npm/leaflet%401.6.0/dist/leaflet.js%22%3E%3C/script%3E%0A%20%20%20%20%3Cscript%20src%3D%22https%3A//code.jquery.com/jquery-1.12.4.min.js%22%3E%3C/script%3E%0A%20%20%20%20%3Cscript%20src%3D%22https%3A//maxcdn.bootstrapcdn.com/bootstrap/3.2.0/js/bootstrap.min.js%22%3E%3C/script%3E%0A%20%20%20%20%3Cscript%20src%3D%22https%3A//cdnjs.cloudflare.com/ajax/libs/Leaflet.awesome-markers/2.0.2/leaflet.awesome-markers.js%22%3E%3C/script%3E%0A%20%20%20%20%3Clink%20rel%3D%22stylesheet%22%20href%3D%22https%3A//cdn.jsdelivr.net/npm/leaflet%401.6.0/dist/leaflet.css%22/%3E%0A%20%20%20%20%3Clink%20rel%3D%22stylesheet%22%20href%3D%22https%3A//maxcdn.bootstrapcdn.com/bootstrap/3.2.0/css/bootstrap.min.css%22/%3E%0A%20%20%20%20%3Clink%20rel%3D%22stylesheet%22%20href%3D%22https%3A//maxcdn.bootstrapcdn.com/bootstrap/3.2.0/css/bootstrap-theme.min.css%22/%3E%0A%20%20%20%20%3Clink%20rel%3D%22stylesheet%22%20href%3D%22https%3A//maxcdn.bootstrapcdn.com/font-awesome/4.6.3/css/font-awesome.min.css%22/%3E%0A%20%20%20%20%3Clink%20rel%3D%22stylesheet%22%20href%3D%22https%3A//cdnjs.cloudflare.com/ajax/libs/Leaflet.awesome-markers/2.0.2/leaflet.awesome-markers.css%22/%3E%0A%20%20%20%20%3Clink%20rel%3D%22stylesheet%22%20href%3D%22https%3A//cdn.jsdelivr.net/gh/python-visualization/folium/folium/templates/leaflet.awesome.rotate.min.css%22/%3E%0A%20%20%20%20%0A%20%20%20%20%20%20%20%20%20%20%20%20%3Cmeta%20name%3D%22viewport%22%20content%3D%22width%3Ddevice-width%2C%0A%20%20%20%20%20%20%20%20%20%20%20%20%20%20%20%20initial-scale%3D1.0%2C%20maximum-scale%3D1.0%2C%20user-scalable%3Dno%22%20/%3E%0A%20%20%20%20%20%20%20%20%20%20%20%20%3Cstyle%3E%0A%20%20%20%20%20%20%20%20%20%20%20%20%20%20%20%20%23map_bcbfa9e144a4466dbd1da153fa8d1ff9%20%7B%0A%20%20%20%20%20%20%20%20%20%20%20%20%20%20%20%20%20%20%20%20position%3A%20relative%3B%0A%20%20%20%20%20%20%20%20%20%20%20%20%20%20%20%20%20%20%20%20width%3A%20100.0%25%3B%0A%20%20%20%20%20%20%20%20%20%20%20%20%20%20%20%20%20%20%20%20height%3A%20100.0%25%3B%0A%20%20%20%20%20%20%20%20%20%20%20%20%20%20%20%20%20%20%20%20left%3A%200.0%25%3B%0A%20%20%20%20%20%20%20%20%20%20%20%20%20%20%20%20%20%20%20%20top%3A%200.0%25%3B%0A%20%20%20%20%20%20%20%20%20%20%20%20%20%20%20%20%7D%0A%20%20%20%20%20%20%20%20%20%20%20%20%3C/style%3E%0A%20%20%20%20%20%20%20%20%0A%3C/head%3E%0A%3Cbody%3E%20%20%20%20%0A%20%20%20%20%0A%20%20%20%20%20%20%20%20%20%20%20%20%3Cdiv%20class%3D%22folium-map%22%20id%3D%22map_bcbfa9e144a4466dbd1da153fa8d1ff9%22%20%3E%3C/div%3E%0A%20%20%20%20%20%20%20%20%0A%3C/body%3E%0A%3Cscript%3E%20%20%20%20%0A%20%20%20%20%0A%20%20%20%20%20%20%20%20%20%20%20%20var%20map_bcbfa9e144a4466dbd1da153fa8d1ff9%20%3D%20L.map%28%0A%20%20%20%20%20%20%20%20%20%20%20%20%20%20%20%20%22map_bcbfa9e144a4466dbd1da153fa8d1ff9%22%2C%0A%20%20%20%20%20%20%20%20%20%20%20%20%20%20%20%20%7B%0A%20%20%20%20%20%20%20%20%20%20%20%20%20%20%20%20%20%20%20%20center%3A%20%5B41.681471%2C%20-72.79474599999999%5D%2C%0A%20%20%20%20%20%20%20%20%20%20%20%20%20%20%20%20%20%20%20%20crs%3A%20L.CRS.EPSG3857%2C%0A%20%20%20%20%20%20%20%20%20%20%20%20%20%20%20%20%20%20%20%20zoom%3A%2010%2C%0A%20%20%20%20%20%20%20%20%20%20%20%20%20%20%20%20%20%20%20%20zoomControl%3A%20true%2C%0A%20%20%20%20%20%20%20%20%20%20%20%20%20%20%20%20%20%20%20%20preferCanvas%3A%20false%2C%0A%20%20%20%20%20%20%20%20%20%20%20%20%20%20%20%20%7D%0A%20%20%20%20%20%20%20%20%20%20%20%20%29%3B%0A%0A%20%20%20%20%20%20%20%20%20%20%20%20%0A%0A%20%20%20%20%20%20%20%20%0A%20%20%20%20%0A%20%20%20%20%20%20%20%20%20%20%20%20var%20tile_layer_f2a1eb6482ab438ebb519173c8b9a4f2%20%3D%20L.tileLayer%28%0A%20%20%20%20%20%20%20%20%20%20%20%20%20%20%20%20%22https%3A//%7Bs%7D.tile.openstreetmap.org/%7Bz%7D/%7Bx%7D/%7By%7D.png%22%2C%0A%20%20%20%20%20%20%20%20%20%20%20%20%20%20%20%20%7B%22attribution%22%3A%20%22Data%20by%20%5Cu0026copy%3B%20%5Cu003ca%20href%3D%5C%22http%3A//openstreetmap.org%5C%22%5Cu003eOpenStreetMap%5Cu003c/a%5Cu003e%2C%20under%20%5Cu003ca%20href%3D%5C%22http%3A//www.openstreetmap.org/copyright%5C%22%5Cu003eODbL%5Cu003c/a%5Cu003e.%22%2C%20%22detectRetina%22%3A%20false%2C%20%22maxNativeZoom%22%3A%2018%2C%20%22maxZoom%22%3A%2018%2C%20%22minZoom%22%3A%200%2C%20%22noWrap%22%3A%20false%2C%20%22opacity%22%3A%201%2C%20%22subdomains%22%3A%20%22abc%22%2C%20%22tms%22%3A%20false%7D%0A%20%20%20%20%20%20%20%20%20%20%20%20%29.addTo%28map_bcbfa9e144a4466dbd1da153fa8d1ff9%29%3B%0A%20%20%20%20%20%20%20%20%0A%20%20%20%20%0A%20%20%20%20%20%20%20%20%20%20%20%20var%20marker_768a6d9b12cb45858e7f1491e8891d3d%20%3D%20L.marker%28%0A%20%20%20%20%20%20%20%20%20%20%20%20%20%20%20%20%5B41.681471%2C%20-72.79474599999999%5D%2C%0A%20%20%20%20%20%20%20%20%20%20%20%20%20%20%20%20%7B%7D%0A%20%20%20%20%20%20%20%20%20%20%20%20%29.addTo%28map_bcbfa9e144a4466dbd1da153fa8d1ff9%29%3B%0A%20%20%20%20%20%20%20%20%0A%20%20%20%20%0A%20%20%20%20%20%20%20%20%20%20%20%20marker_768a6d9b12cb45858e7f1491e8891d3d.bindTooltip%28%0A%20%20%20%20%20%20%20%20%20%20%20%20%20%20%20%20%60%3Cdiv%3E%0A%20%20%20%20%20%20%20%20%20%20%20%20%20%20%20%20%20%20%20%20%20%3Cp%3E%3Cb%3EWarehouse%20ID%3A%3C/b%3E%20WH_0x3e9%0A%20%20%20%20%20%20%20%20%20%20%20%20%20%20%20%20%20%3C/div%3E%60%2C%0A%20%20%20%20%20%20%20%20%20%20%20%20%20%20%20%20%7B%22sticky%22%3A%20true%7D%0A%20%20%20%20%20%20%20%20%20%20%20%20%29%3B%0A%20%20%20%20%20%20%20%20%0A%20%20%20%20%0A%20%20%20%20%20%20%20%20%20%20%20%20var%20marker_670a32e53edc4e1a9005fe37ddfed2f8%20%3D%20L.marker%28%0A%20%20%20%20%20%20%20%20%20%20%20%20%20%20%20%20%5B38.749077%2C%20-105.18306%5D%2C%0A%20%20%20%20%20%20%20%20%20%20%20%20%20%20%20%20%7B%7D%0A%20%20%20%20%20%20%20%20%20%20%20%20%29.addTo%28map_bcbfa9e144a4466dbd1da153fa8d1ff9%29%3B%0A%20%20%20%20%20%20%20%20%0A%20%20%20%20%0A%20%20%20%20%20%20%20%20%20%20%20%20marker_670a32e53edc4e1a9005fe37ddfed2f8.bindTooltip%28%0A%20%20%20%20%20%20%20%20%20%20%20%20%20%20%20%20%60%3Cdiv%3E%0A%20%20%20%20%20%20%20%20%20%20%20%20%20%20%20%20%20%20%20%20%20%3Cp%3E%3Cb%3EWarehouse%20ID%3A%3C/b%3E%20WH_0x3ea%0A%20%20%20%20%20%20%20%20%20%20%20%20%20%20%20%20%20%3C/div%3E%60%2C%0A%20%20%20%20%20%20%20%20%20%20%20%20%20%20%20%20%7B%22sticky%22%3A%20true%7D%0A%20%20%20%20%20%20%20%20%20%20%20%20%29%3B%0A%20%20%20%20%20%20%20%20%0A%20%20%20%20%0A%20%20%20%20%20%20%20%20%20%20%20%20var%20marker_dcd5533b50544f578f63d63bfd486e96%20%3D%20L.marker%28%0A%20%20%20%20%20%20%20%20%20%20%20%20%20%20%20%20%5B35.67897%2C%20-109.067413%5D%2C%0A%20%20%20%20%20%20%20%20%20%20%20%20%20%20%20%20%7B%7D%0A%20%20%20%20%20%20%20%20%20%20%20%20%29.addTo%28map_bcbfa9e144a4466dbd1da153fa8d1ff9%29%3B%0A%20%20%20%20%20%20%20%20%0A%20%20%20%20%0A%20%20%20%20%20%20%20%20%20%20%20%20marker_dcd5533b50544f578f63d63bfd486e96.bindTooltip%28%0A%20%20%20%20%20%20%20%20%20%20%20%20%20%20%20%20%60%3Cdiv%3E%0A%20%20%20%20%20%20%20%20%20%20%20%20%20%20%20%20%20%20%20%20%20%3Cp%3E%3Cb%3EWarehouse%20ID%3A%3C/b%3E%20WH_0x3eb%0A%20%20%20%20%20%20%20%20%20%20%20%20%20%20%20%20%20%3C/div%3E%60%2C%0A%20%20%20%20%20%20%20%20%20%20%20%20%20%20%20%20%7B%22sticky%22%3A%20true%7D%0A%20%20%20%20%20%20%20%20%20%20%20%20%29%3B%0A%20%20%20%20%20%20%20%20%0A%20%20%20%20%0A%20%20%20%20%20%20%20%20%20%20%20%20var%20marker_6c38e9ff999d4b7ba2e36a25a185915b%20%3D%20L.marker%28%0A%20%20%20%20%20%20%20%20%20%20%20%20%20%20%20%20%5B34.361664000000005%2C%20-86.305595%5D%2C%0A%20%20%20%20%20%20%20%20%20%20%20%20%20%20%20%20%7B%7D%0A%20%20%20%20%20%20%20%20%20%20%20%20%29.addTo%28map_bcbfa9e144a4466dbd1da153fa8d1ff9%29%3B%0A%20%20%20%20%20%20%20%20%0A%20%20%20%20%0A%20%20%20%20%20%20%20%20%20%20%20%20marker_6c38e9ff999d4b7ba2e36a25a185915b.bindTooltip%28%0A%20%20%20%20%20%20%20%20%20%20%20%20%20%20%20%20%60%3Cdiv%3E%0A%20%20%20%20%20%20%20%20%20%20%20%20%20%20%20%20%20%20%20%20%20%3Cp%3E%3Cb%3EWarehouse%20ID%3A%3C/b%3E%20WH_0x3ec%0A%20%20%20%20%20%20%20%20%20%20%20%20%20%20%20%20%20%3C/div%3E%60%2C%0A%20%20%20%20%20%20%20%20%20%20%20%20%20%20%20%20%7B%22sticky%22%3A%20true%7D%0A%20%20%20%20%20%20%20%20%20%20%20%20%29%3B%0A%20%20%20%20%20%20%20%20%0A%20%20%20%20%0A%20%20%20%20%20%20%20%20%20%20%20%20var%20marker_4cd19aa912f540579f0390b4557c4337%20%3D%20L.marker%28%0A%20%20%20%20%20%20%20%20%20%20%20%20%20%20%20%20%5B25.750156%2C%20-80.27964%5D%2C%0A%20%20%20%20%20%20%20%20%20%20%20%20%20%20%20%20%7B%7D%0A%20%20%20%20%20%20%20%20%20%20%20%20%29.addTo%28map_bcbfa9e144a4466dbd1da153fa8d1ff9%29%3B%0A%20%20%20%20%20%20%20%20%0A%20%20%20%20%0A%20%20%20%20%20%20%20%20%20%20%20%20marker_4cd19aa912f540579f0390b4557c4337.bindTooltip%28%0A%20%20%20%20%20%20%20%20%20%20%20%20%20%20%20%20%60%3Cdiv%3E%0A%20%20%20%20%20%20%20%20%20%20%20%20%20%20%20%20%20%20%20%20%20%3Cp%3E%3Cb%3EWarehouse%20ID%3A%3C/b%3E%20WH_0x3ed%0A%20%20%20%20%20%20%20%20%20%20%20%20%20%20%20%20%20%3C/div%3E%60%2C%0A%20%20%20%20%20%20%20%20%20%20%20%20%20%20%20%20%7B%22sticky%22%3A%20true%7D%0A%20%20%20%20%20%20%20%20%20%20%20%20%29%3B%0A%20%20%20%20%20%20%20%20%0A%20%20%20%20%0A%20%20%20%20%20%20%20%20%20%20%20%20var%20marker_74a5ccf85b1449a096ab0670ccddb45d%20%3D%20L.marker%28%0A%20%20%20%20%20%20%20%20%20%20%20%20%20%20%20%20%5B30.189375%2C%20-82.64825400000001%5D%2C%0A%20%20%20%20%20%20%20%20%20%20%20%20%20%20%20%20%7B%7D%0A%20%20%20%20%20%20%20%20%20%20%20%20%29.addTo%28map_bcbfa9e144a4466dbd1da153fa8d1ff9%29%3B%0A%20%20%20%20%20%20%20%20%0A%20%20%20%20%0A%20%20%20%20%20%20%20%20%20%20%20%20marker_74a5ccf85b1449a096ab0670ccddb45d.bindTooltip%28%0A%20%20%20%20%20%20%20%20%20%20%20%20%20%20%20%20%60%3Cdiv%3E%0A%20%20%20%20%20%20%20%20%20%20%20%20%20%20%20%20%20%20%20%20%20%3Cp%3E%3Cb%3EWarehouse%20ID%3A%3C/b%3E%20WH_0x3ee%0A%20%20%20%20%20%20%20%20%20%20%20%20%20%20%20%20%20%3C/div%3E%60%2C%0A%20%20%20%20%20%20%20%20%20%20%20%20%20%20%20%20%7B%22sticky%22%3A%20true%7D%0A%20%20%20%20%20%20%20%20%20%20%20%20%29%3B%0A%20%20%20%20%20%20%20%20%0A%20%20%20%20%0A%20%20%20%20%20%20%20%20%20%20%20%20var%20marker_b716f6a0d2dc4467a1458a08e0b9795f%20%3D%20L.marker%28%0A%20%20%20%20%20%20%20%20%20%20%20%20%20%20%20%20%5B41.611603%2C%20-87.551186%5D%2C%0A%20%20%20%20%20%20%20%20%20%20%20%20%20%20%20%20%7B%7D%0A%20%20%20%20%20%20%20%20%20%20%20%20%29.addTo%28map_bcbfa9e144a4466dbd1da153fa8d1ff9%29%3B%0A%20%20%20%20%20%20%20%20%0A%20%20%20%20%0A%20%20%20%20%20%20%20%20%20%20%20%20marker_b716f6a0d2dc4467a1458a08e0b9795f.bindTooltip%28%0A%20%20%20%20%20%20%20%20%20%20%20%20%20%20%20%20%60%3Cdiv%3E%0A%20%20%20%20%20%20%20%20%20%20%20%20%20%20%20%20%20%20%20%20%20%3Cp%3E%3Cb%3EWarehouse%20ID%3A%3C/b%3E%20WH_0x3ef%0A%20%20%20%20%20%20%20%20%20%20%20%20%20%20%20%20%20%3C/div%3E%60%2C%0A%20%20%20%20%20%20%20%20%20%20%20%20%20%20%20%20%7B%22sticky%22%3A%20true%7D%0A%20%20%20%20%20%20%20%20%20%20%20%20%29%3B%0A%20%20%20%20%20%20%20%20%0A%20%20%20%20%0A%20%20%20%20%20%20%20%20%20%20%20%20var%20marker_952b25d23b69485a81f23bcbc79f4109%20%3D%20L.marker%28%0A%20%20%20%20%20%20%20%20%20%20%20%20%20%20%20%20%5B48.692551%2C%20-116.319862%5D%2C%0A%20%20%20%20%20%20%20%20%20%20%20%20%20%20%20%20%7B%7D%0A%20%20%20%20%20%20%20%20%20%20%20%20%29.addTo%28map_bcbfa9e144a4466dbd1da153fa8d1ff9%29%3B%0A%20%20%20%20%20%20%20%20%0A%20%20%20%20%0A%20%20%20%20%20%20%20%20%20%20%20%20marker_952b25d23b69485a81f23bcbc79f4109.bindTooltip%28%0A%20%20%20%20%20%20%20%20%20%20%20%20%20%20%20%20%60%3Cdiv%3E%0A%20%20%20%20%20%20%20%20%20%20%20%20%20%20%20%20%20%20%20%20%20%3Cp%3E%3Cb%3EWarehouse%20ID%3A%3C/b%3E%20WH_0x3f1%0A%20%20%20%20%20%20%20%20%20%20%20%20%20%20%20%20%20%3C/div%3E%60%2C%0A%20%20%20%20%20%20%20%20%20%20%20%20%20%20%20%20%7B%22sticky%22%3A%20true%7D%0A%20%20%20%20%20%20%20%20%20%20%20%20%29%3B%0A%20%20%20%20%20%20%20%20%0A%20%20%20%20%0A%20%20%20%20%20%20%20%20%20%20%20%20var%20marker_fd70a785097d48038004fff7d5e1e8dc%20%3D%20L.marker%28%0A%20%20%20%20%20%20%20%20%20%20%20%20%20%20%20%20%5B37.915825%2C%20-89.829262%5D%2C%0A%20%20%20%20%20%20%20%20%20%20%20%20%20%20%20%20%7B%7D%0A%20%20%20%20%20%20%20%20%20%20%20%20%29.addTo%28map_bcbfa9e144a4466dbd1da153fa8d1ff9%29%3B%0A%20%20%20%20%20%20%20%20%0A%20%20%20%20%0A%20%20%20%20%20%20%20%20%20%20%20%20marker_fd70a785097d48038004fff7d5e1e8dc.bindTooltip%28%0A%20%20%20%20%20%20%20%20%20%20%20%20%20%20%20%20%60%3Cdiv%3E%0A%20%20%20%20%20%20%20%20%20%20%20%20%20%20%20%20%20%20%20%20%20%3Cp%3E%3Cb%3EWarehouse%20ID%3A%3C/b%3E%20WH_0x3f0%0A%20%20%20%20%20%20%20%20%20%20%20%20%20%20%20%20%20%3C/div%3E%60%2C%0A%20%20%20%20%20%20%20%20%20%20%20%20%20%20%20%20%7B%22sticky%22%3A%20true%7D%0A%20%20%20%20%20%20%20%20%20%20%20%20%29%3B%0A%20%20%20%20%20%20%20%20%0A%20%20%20%20%0A%20%20%20%20%20%20%20%20%20%20%20%20var%20marker_e1a69fa5144e41c3bb0280217114d643%20%3D%20L.marker%28%0A%20%20%20%20%20%20%20%20%20%20%20%20%20%20%20%20%5B61.600803000000006%2C%20-149.125259%5D%2C%0A%20%20%20%20%20%20%20%20%20%20%20%20%20%20%20%20%7B%7D%0A%20%20%20%20%20%20%20%20%20%20%20%20%29.addTo%28map_bcbfa9e144a4466dbd1da153fa8d1ff9%29%3B%0A%20%20%20%20%20%20%20%20%0A%20%20%20%20%0A%20%20%20%20%20%20%20%20%20%20%20%20marker_e1a69fa5144e41c3bb0280217114d643.bindTooltip%28%0A%20%20%20%20%20%20%20%20%20%20%20%20%20%20%20%20%60%3Cdiv%3E%0A%20%20%20%20%20%20%20%20%20%20%20%20%20%20%20%20%20%20%20%20%20%3Cp%3E%3Cb%3EWarehouse%20ID%3A%3C/b%3E%20WH_0x3f2%0A%20%20%20%20%20%20%20%20%20%20%20%20%20%20%20%20%20%3C/div%3E%60%2C%0A%20%20%20%20%20%20%20%20%20%20%20%20%20%20%20%20%7B%22sticky%22%3A%20true%7D%0A%20%20%20%20%20%20%20%20%20%20%20%20%29%3B%0A%20%20%20%20%20%20%20%20%0A%3C/script%3E onload=\"this.contentDocument.open();this.contentDocument.write(    decodeURIComponent(this.getAttribute('data-html')));this.contentDocument.close();\" allowfullscreen webkitallowfullscreen mozallowfullscreen></iframe></div></div>"
      ],
      "text/plain": [
       "<folium.folium.Map at 0x1834dbcf8b0>"
      ]
     },
     "execution_count": 22,
     "metadata": {},
     "output_type": "execute_result"
    }
   ],
   "source": [
    "import folium\n",
    "\n",
    "m = folium.Map(location=[m_df['Latitude'][0], m_df['Longitude'][0]])\n",
    "for i in range(len(m_df)):\n",
    "    folium.Marker(location=[m_df['Latitude'][i], m_df['Longitude'][i]],\n",
    "                  tooltip=folium.map.Tooltip(text='<p><b>Warehouse ID:</b> {0}'.format(m_df['index'][i]))).add_to(m)\n",
    "    \n",
    "\n",
    "m"
   ]
  },
  {
   "cell_type": "markdown",
   "id": "b6772c69",
   "metadata": {},
   "source": [
    "### Product Type\n",
    "Represents the type of a product ( Type_A or Type_B)"
   ]
  },
  {
   "cell_type": "code",
   "execution_count": 23,
   "id": "3603bca5",
   "metadata": {
    "ExecuteTime": {
     "end_time": "2022-04-30T14:15:40.241673Z",
     "start_time": "2022-04-30T14:15:40.228707Z"
    }
   },
   "outputs": [
    {
     "data": {
      "text/plain": [
       "array(['Type_A', 'Type_B'], dtype=object)"
      ]
     },
     "execution_count": 23,
     "metadata": {},
     "output_type": "execute_result"
    }
   ],
   "source": [
    "df_train['Product_Type'].unique()"
   ]
  },
  {
   "cell_type": "markdown",
   "id": "0991f567",
   "metadata": {},
   "source": [
    "How may product id is present in dataset..."
   ]
  },
  {
   "cell_type": "code",
   "execution_count": 24,
   "id": "17bbeaba",
   "metadata": {
    "ExecuteTime": {
     "end_time": "2022-04-30T14:15:40.702554Z",
     "start_time": "2022-04-30T14:15:40.244762Z"
    }
   },
   "outputs": [
    {
     "data": {
      "image/png": "[encoded data removed]",
      "text/plain": [
       "<Figure size 576x360 with 1 Axes>"
      ]
     },
     "metadata": {
      "needs_background": "light"
     },
     "output_type": "display_data"
    }
   ],
   "source": [
    "plt.figure(figsize=(8, 5))\n",
    "sns.countplot(x=df_train['Product_Type'])\n",
    "plt.savefig('How may product id.png')\n",
    "plt.show()"
   ]
  },
  {
   "cell_type": "markdown",
   "id": "205bc475",
   "metadata": {},
   "source": [
    "Check product id count by each warehouse id and compare..."
   ]
  },
  {
   "cell_type": "code",
   "execution_count": 25,
   "id": "972ea0a6",
   "metadata": {
    "ExecuteTime": {
     "end_time": "2022-04-30T14:15:41.177236Z",
     "start_time": "2022-04-30T14:15:40.708424Z"
    }
   },
   "outputs": [
    {
     "data": {
      "image/png": "[encoded data removed]",
      "text/plain": [
       "<Figure size 1080x360 with 1 Axes>"
      ]
     },
     "metadata": {
      "needs_background": "light"
     },
     "output_type": "display_data"
    }
   ],
   "source": [
    "plt.figure(figsize=(15, 5))\n",
    "sns.countplot(x=df_train['warehouse_ID'], hue=df_train['Product_Type'])\n",
    "plt.savefig('product id count by each warehouse id.png')\n",
    "plt.show()"
   ]
  },
  {
   "cell_type": "markdown",
   "id": "3b297ee9",
   "metadata": {},
   "source": [
    "According, this plot warehouse id 'WH_0x3e9', 'WH_0x3ea' have Type A product more as compare to Type B, as well as other warehouse Id's has same amount of both products "
   ]
  },
  {
   "cell_type": "markdown",
   "id": "ec579aac",
   "metadata": {},
   "source": [
    "### Year\t\n",
    "Represents the current year"
   ]
  },
  {
   "cell_type": "markdown",
   "id": "36d6dc8d",
   "metadata": {},
   "source": [
    "This column is compare to date column, for cross verification of the give year has same year as per given date..."
   ]
  },
  {
   "cell_type": "code",
   "execution_count": 26,
   "id": "4a39ffc6",
   "metadata": {
    "ExecuteTime": {
     "end_time": "2022-04-30T14:15:41.208090Z",
     "start_time": "2022-04-30T14:15:41.180164Z"
    }
   },
   "outputs": [
    {
     "data": {
      "text/plain": [
       "0        True\n",
       "1        True\n",
       "2        True\n",
       "3        True\n",
       "4        True\n",
       "         ... \n",
       "16639    True\n",
       "16640    True\n",
       "16641    True\n",
       "16642    True\n",
       "16643    True\n",
       "Length: 16644, dtype: bool"
      ]
     },
     "execution_count": 26,
     "metadata": {},
     "output_type": "execute_result"
    }
   ],
   "source": [
    "df_train['date'].dt.year == df_train['year']"
   ]
  },
  {
   "cell_type": "markdown",
   "id": "d3ba0b23",
   "metadata": {},
   "source": [
    "this all year data same as date year field..."
   ]
  },
  {
   "cell_type": "markdown",
   "id": "a6a3e48a",
   "metadata": {},
   "source": [
    "### Month\n",
    "Represents the current month"
   ]
  },
  {
   "cell_type": "markdown",
   "id": "e716c271",
   "metadata": {},
   "source": [
    "This column is compare to date column, for cross verification of the give month has same month as per given date..."
   ]
  },
  {
   "cell_type": "code",
   "execution_count": 27,
   "id": "9cf76be7",
   "metadata": {
    "ExecuteTime": {
     "end_time": "2022-04-30T14:15:41.240053Z",
     "start_time": "2022-04-30T14:15:41.211525Z"
    }
   },
   "outputs": [
    {
     "data": {
      "text/plain": [
       "0        True\n",
       "1        True\n",
       "2        True\n",
       "3        True\n",
       "4        True\n",
       "         ... \n",
       "16639    True\n",
       "16640    True\n",
       "16641    True\n",
       "16642    True\n",
       "16643    True\n",
       "Length: 16644, dtype: bool"
      ]
     },
     "execution_count": 27,
     "metadata": {},
     "output_type": "execute_result"
    }
   ],
   "source": [
    "df_train['date'].dt.month_name() == df_train['month']"
   ]
  },
  {
   "cell_type": "markdown",
   "id": "77acfeaa",
   "metadata": {},
   "source": [
    "this all year data same as date month field..."
   ]
  },
  {
   "cell_type": "markdown",
   "id": "ee6fc5a8",
   "metadata": {},
   "source": [
    "### Is Weekend\t\n",
    "Represents whether the day is weekend or not"
   ]
  },
  {
   "cell_type": "code",
   "execution_count": 28,
   "id": "46a52005",
   "metadata": {
    "ExecuteTime": {
     "end_time": "2022-04-30T14:15:41.255961Z",
     "start_time": "2022-04-30T14:15:41.243105Z"
    }
   },
   "outputs": [
    {
     "data": {
      "text/plain": [
       "499"
      ]
     },
     "execution_count": 28,
     "metadata": {},
     "output_type": "execute_result"
    }
   ],
   "source": [
    "# Check how many null value is presents in this column\n",
    "df_train['is_weekend'].isna().sum()"
   ]
  },
  {
   "cell_type": "code",
   "execution_count": 29,
   "id": "918e6005",
   "metadata": {
    "ExecuteTime": {
     "end_time": "2022-04-30T14:15:41.271952Z",
     "start_time": "2022-04-30T14:15:41.258952Z"
    }
   },
   "outputs": [
    {
     "data": {
      "text/plain": [
       "array(['Yes', 'No', nan], dtype=object)"
      ]
     },
     "execution_count": 29,
     "metadata": {},
     "output_type": "execute_result"
    }
   ],
   "source": [
    "df_train['is_weekend'].unique()"
   ]
  },
  {
   "cell_type": "markdown",
   "id": "0d924e98",
   "metadata": {},
   "source": [
    "Count how many No and Yes is present..."
   ]
  },
  {
   "cell_type": "code",
   "execution_count": 30,
   "id": "1213b86e",
   "metadata": {
    "ExecuteTime": {
     "end_time": "2022-04-30T14:15:41.287906Z",
     "start_time": "2022-04-30T14:15:41.274910Z"
    }
   },
   "outputs": [
    {
     "data": {
      "text/plain": [
       "No     11549\n",
       "Yes     4596\n",
       "Name: is_weekend, dtype: int64"
      ]
     },
     "execution_count": 30,
     "metadata": {},
     "output_type": "execute_result"
    }
   ],
   "source": [
    "df_train['is_weekend'].value_counts()"
   ]
  },
  {
   "cell_type": "markdown",
   "id": "0310f9df",
   "metadata": {},
   "source": [
    "Now show which day they choose for weekend..."
   ]
  },
  {
   "cell_type": "code",
   "execution_count": 31,
   "id": "817c2263",
   "metadata": {
    "ExecuteTime": {
     "end_time": "2022-04-30T14:15:41.590796Z",
     "start_time": "2022-04-30T14:15:41.290867Z"
    },
    "scrolled": false
   },
   "outputs": [
    {
     "data": {
      "image/png": "[encoded data removed]",
      "text/plain": [
       "<Figure size 576x360 with 1 Axes>"
      ]
     },
     "metadata": {
      "needs_background": "light"
     },
     "output_type": "display_data"
    }
   ],
   "source": [
    "plt.figure(figsize=(8, 5))\n",
    "sns.countplot(x=df_train['date'].dt.day_name(), hue=df_train['is_weekend'])\n",
    "plt.savefig('which day they choose for weekend.png')\n",
    "plt.show()"
   ]
  },
  {
   "cell_type": "markdown",
   "id": "373f5e9c",
   "metadata": {},
   "source": [
    "As per this graph clearly shows that Sunday and Saturday are weekend and rest of day is not weekend..."
   ]
  },
  {
   "cell_type": "code",
   "execution_count": 32,
   "id": "dd793813",
   "metadata": {
    "ExecuteTime": {
     "end_time": "2022-04-30T14:15:41.620983Z",
     "start_time": "2022-04-30T14:15:41.594358Z"
    }
   },
   "outputs": [
    {
     "data": {
      "text/plain": [
       "array(['Sunday', 'Monday', 'Tuesday', 'Wednesday', 'Thursday', 'Friday',\n",
       "       'Saturday'], dtype=object)"
      ]
     },
     "execution_count": 32,
     "metadata": {},
     "output_type": "execute_result"
    }
   ],
   "source": [
    "df_train['date'].dt.day_name().unique()"
   ]
  },
  {
   "cell_type": "markdown",
   "id": "a492238b",
   "metadata": {},
   "source": [
    "According to above analysis we fill null value by crate dictionary..."
   ]
  },
  {
   "cell_type": "code",
   "execution_count": 33,
   "id": "1a4adcd1",
   "metadata": {
    "ExecuteTime": {
     "end_time": "2022-04-30T14:15:45.069821Z",
     "start_time": "2022-04-30T14:15:41.624973Z"
    }
   },
   "outputs": [],
   "source": [
    "# create dict data fill in day_name is weekend\n",
    "is_weekend_dict = {'Sunday': 'Yes', 'Monday': 'No', 'Tuesday':'No', 'Wednesday':'No', 'Thursday':'No', 'Friday':'No',\n",
    "                   'Saturday':'No'}\n",
    "\n",
    "for i in range(len(df_train)):\n",
    "    if str(df_train['is_weekend'][i]) == 'nan':\n",
    "        df_train.loc[i,'is_weekend'] = is_weekend_dict[df_train['date'].dt.day_name()[i]]"
   ]
  },
  {
   "cell_type": "markdown",
   "id": "7bafa1b1",
   "metadata": {},
   "source": [
    "### Is warehouse closed\t\n",
    "Represents whether the warehouse is closed or not"
   ]
  },
  {
   "cell_type": "code",
   "execution_count": 34,
   "id": "8ea00866",
   "metadata": {
    "ExecuteTime": {
     "end_time": "2022-04-30T14:15:45.085034Z",
     "start_time": "2022-04-30T14:15:45.072766Z"
    }
   },
   "outputs": [
    {
     "data": {
      "text/plain": [
       "166"
      ]
     },
     "execution_count": 34,
     "metadata": {},
     "output_type": "execute_result"
    }
   ],
   "source": [
    "# Check how many null value is presents in this column\n",
    "df_train['is_warehouse_closed'].isna().sum()"
   ]
  },
  {
   "cell_type": "code",
   "execution_count": 35,
   "id": "a3995e9d",
   "metadata": {
    "ExecuteTime": {
     "end_time": "2022-04-30T14:15:45.100690Z",
     "start_time": "2022-04-30T14:15:45.088725Z"
    }
   },
   "outputs": [
    {
     "data": {
      "text/plain": [
       "array(['No', nan, 'Yes'], dtype=object)"
      ]
     },
     "execution_count": 35,
     "metadata": {},
     "output_type": "execute_result"
    }
   ],
   "source": [
    "df_train['is_warehouse_closed'].unique()"
   ]
  },
  {
   "cell_type": "code",
   "execution_count": 36,
   "id": "3f21ac58",
   "metadata": {
    "ExecuteTime": {
     "end_time": "2022-04-30T14:15:45.116648Z",
     "start_time": "2022-04-30T14:15:45.104162Z"
    }
   },
   "outputs": [
    {
     "data": {
      "text/plain": [
       "No     15365\n",
       "Yes     1113\n",
       "Name: is_warehouse_closed, dtype: int64"
      ]
     },
     "execution_count": 36,
     "metadata": {},
     "output_type": "execute_result"
    }
   ],
   "source": [
    "df_train['is_warehouse_closed'].value_counts()"
   ]
  },
  {
   "cell_type": "markdown",
   "id": "70c5aeec",
   "metadata": {},
   "source": [
    "Now, find the pattern between this column for fill null value, by checking each of column..."
   ]
  },
  {
   "cell_type": "markdown",
   "id": "ed53cf34",
   "metadata": {},
   "source": [
    "* First, check with week days warehouse is closed ..."
   ]
  },
  {
   "cell_type": "code",
   "execution_count": 37,
   "id": "69961c85",
   "metadata": {
    "ExecuteTime": {
     "end_time": "2022-04-30T14:15:45.495633Z",
     "start_time": "2022-04-30T14:15:45.120637Z"
    },
    "scrolled": false
   },
   "outputs": [
    {
     "data": {
      "image/png": "[encoded data removed]",
      "text/plain": [
       "<Figure size 576x360 with 1 Axes>"
      ]
     },
     "metadata": {
      "needs_background": "light"
     },
     "output_type": "display_data"
    }
   ],
   "source": [
    "plt.figure(figsize=(8, 5))\n",
    "sns.countplot(x=df_train['date'].dt.day_name(), hue=df_train['is_warehouse_closed'])\n",
    "plt.savefig('week days warehouse is closed.png')\n",
    "plt.show()"
   ]
  },
  {
   "cell_type": "markdown",
   "id": "e62b850c",
   "metadata": {},
   "source": [
    "According to, this graph is not shows clearly a good pattern"
   ]
  },
  {
   "cell_type": "markdown",
   "id": "88f21fc6",
   "metadata": {},
   "source": [
    "* Second, check is that related with date...?"
   ]
  },
  {
   "cell_type": "code",
   "execution_count": 38,
   "id": "969a27a8",
   "metadata": {
    "ExecuteTime": {
     "end_time": "2022-04-30T14:15:46.267608Z",
     "start_time": "2022-04-30T14:15:45.502297Z"
    }
   },
   "outputs": [
    {
     "data": {
      "image/png": "[encoded data removed]",
      "text/plain": [
       "<Figure size 1080x360 with 1 Axes>"
      ]
     },
     "metadata": {
      "needs_background": "light"
     },
     "output_type": "display_data"
    }
   ],
   "source": [
    "plt.figure(figsize=(15, 5))\n",
    "sns.countplot(x=df_train['date'].dt.day, hue=df_train['is_warehouse_closed'])\n",
    "plt.savefig('week days warehouse is closed is related with date.png')\n",
    "plt.show()"
   ]
  },
  {
   "cell_type": "markdown",
   "id": "3bae31d0",
   "metadata": {},
   "source": [
    "According to, this graph is not related to date..."
   ]
  },
  {
   "cell_type": "markdown",
   "id": "f3100331",
   "metadata": {},
   "source": [
    "* Now, check is this related with month...?"
   ]
  },
  {
   "cell_type": "code",
   "execution_count": 39,
   "id": "6982b32b",
   "metadata": {
    "ExecuteTime": {
     "end_time": "2022-04-30T14:15:46.816166Z",
     "start_time": "2022-04-30T14:15:46.270565Z"
    }
   },
   "outputs": [
    {
     "data": {
      "image/png": "[encoded data removed]",
      "text/plain": [
       "<Figure size 1080x360 with 1 Axes>"
      ]
     },
     "metadata": {
      "needs_background": "light"
     },
     "output_type": "display_data"
    }
   ],
   "source": [
    "plt.figure(figsize=(15, 5))\n",
    "sns.countplot(x=df_train['date'].dt.month_name(), hue=df_train['is_warehouse_closed'])\n",
    "plt.savefig('week days warehouse is closedis this related with month.png')\n",
    "plt.show()"
   ]
  },
  {
   "cell_type": "markdown",
   "id": "bc44dc15",
   "metadata": {},
   "source": [
    "According to, this plot is some kind of pattern is show-up like May to December is gradually increased, while January to April gradually declined, lastly in the May month warehouse is normally opened, never be closed, while, in a month of a January has maximum day id closed."
   ]
  },
  {
   "cell_type": "markdown",
   "id": "a7866825",
   "metadata": {},
   "source": [
    "* Now, check is that related with warehouse Id or their location...."
   ]
  },
  {
   "cell_type": "code",
   "execution_count": 40,
   "id": "7fbaac73",
   "metadata": {
    "ExecuteTime": {
     "end_time": "2022-04-30T14:15:47.256924Z",
     "start_time": "2022-04-30T14:15:46.819094Z"
    }
   },
   "outputs": [
    {
     "data": {
      "image/png": "[encoded data removed]",
      "text/plain": [
       "<Figure size 1080x360 with 1 Axes>"
      ]
     },
     "metadata": {
      "needs_background": "light"
     },
     "output_type": "display_data"
    }
   ],
   "source": [
    "plt.figure(figsize=(15, 5))\n",
    "sns.countplot(x=df_train['warehouse_ID'], hue=df_train['is_warehouse_closed'])\n",
    "plt.savefig('week days warehouse is closed is that related with warehouse Id.png')\n",
    "plt.show()"
   ]
  },
  {
   "cell_type": "markdown",
   "id": "c4dee2da",
   "metadata": {},
   "source": [
    "Their is not such a pattern behind the this plot..."
   ]
  },
  {
   "cell_type": "markdown",
   "id": "39b4cc11",
   "metadata": {},
   "source": [
    "* Now, check is this related with our target column, because in the train dataset we have `daily_dispatch_count` has not null value."
   ]
  },
  {
   "cell_type": "code",
   "execution_count": 41,
   "id": "7e1c8d57",
   "metadata": {
    "ExecuteTime": {
     "end_time": "2022-04-30T14:15:48.698388Z",
     "start_time": "2022-04-30T14:15:47.260000Z"
    }
   },
   "outputs": [
    {
     "data": {
      "image/png": "[encoded data removed]",
      "text/plain": [
       "<Figure size 576x360 with 1 Axes>"
      ]
     },
     "metadata": {
      "needs_background": "light"
     },
     "output_type": "display_data"
    }
   ],
   "source": [
    "plt.figure(figsize=(8, 5))\n",
    "sns.barplot(x = df_train['daily_dispatch_count'], y=df_train['warehouse_ID'], hue = df_train['is_warehouse_closed'])\n",
    "plt.savefig('week days warehouse is closed is this related with daily_dispatch_count.png')\n",
    "plt.show()"
   ]
  },
  {
   "cell_type": "markdown",
   "id": "31d360f4",
   "metadata": {},
   "source": [
    "Now, this picture is clear whenever column `daily_dispatch_count` value is `0` that means warehouse is closed."
   ]
  },
  {
   "cell_type": "markdown",
   "id": "b50446f1",
   "metadata": {},
   "source": [
    "So, we fill null value in train dataset by using column daily_dispatch_count"
   ]
  },
  {
   "cell_type": "code",
   "execution_count": 42,
   "id": "35bb87cc",
   "metadata": {
    "ExecuteTime": {
     "end_time": "2022-04-30T14:15:48.951632Z",
     "start_time": "2022-04-30T14:15:48.701303Z"
    }
   },
   "outputs": [],
   "source": [
    "for i in range(len(df_train)):\n",
    "    if str(df_train['is_warehouse_closed'][i]) == 'nan':\n",
    "        if df_train['daily_dispatch_count'][i] == 0:\n",
    "            df_train.loc[i, 'is_warehouse_closed'] = 'Yes'\n",
    "        else:\n",
    "            df_train.loc[i, 'is_warehouse_closed'] = 'No'"
   ]
  },
  {
   "cell_type": "markdown",
   "id": "11025fa9",
   "metadata": {
    "ExecuteTime": {
     "end_time": "2022-04-21T07:43:51.590549Z",
     "start_time": "2022-04-21T07:43:51.552616Z"
    }
   },
   "source": [
    "### daily_dispatch_count\t\n",
    "Represents the number of items of a specific product type that are dispatched (in thousands) from a specific warehouse on a specific day"
   ]
  },
  {
   "cell_type": "code",
   "execution_count": 43,
   "id": "219ff1f2",
   "metadata": {
    "ExecuteTime": {
     "end_time": "2022-04-30T14:15:48.968587Z",
     "start_time": "2022-04-30T14:15:48.955273Z"
    }
   },
   "outputs": [
    {
     "data": {
      "text/plain": [
       "0"
      ]
     },
     "execution_count": 43,
     "metadata": {},
     "output_type": "execute_result"
    }
   ],
   "source": [
    "df_train['daily_dispatch_count'].isna().sum()"
   ]
  },
  {
   "cell_type": "markdown",
   "id": "2980ea55",
   "metadata": {},
   "source": [
    "Now, plot line graph for this columns according to date..."
   ]
  },
  {
   "cell_type": "code",
   "execution_count": 44,
   "id": "575526b7",
   "metadata": {
    "ExecuteTime": {
     "end_time": "2022-04-30T14:16:34.175088Z",
     "start_time": "2022-04-30T14:15:48.971582Z"
    }
   },
   "outputs": [
    {
     "data": {
      "image/png": "[encoded data removed]",
      "text/plain": [
       "<Figure size 1080x360 with 1 Axes>"
      ]
     },
     "metadata": {
      "needs_background": "light"
     },
     "output_type": "display_data"
    }
   ],
   "source": [
    "plt.figure(figsize=(15,5))\n",
    "sns.lineplot(x=df_train['date'], y=df_train['daily_dispatch_count'])\n",
    "plt.savefig('daily_dispatch_count according to date.png')\n",
    "plt.show()"
   ]
  },
  {
   "cell_type": "markdown",
   "id": "8a6f54d7",
   "metadata": {},
   "source": [
    "It is difficult for understanding...\n",
    "\n",
    "So, plot new graph for only one warehouse..."
   ]
  },
  {
   "cell_type": "code",
   "execution_count": 45,
   "id": "d9c47ee8",
   "metadata": {
    "ExecuteTime": {
     "end_time": "2022-04-30T14:16:34.190521Z",
     "start_time": "2022-04-30T14:16:34.177480Z"
    }
   },
   "outputs": [
    {
     "data": {
      "text/plain": [
       "array(['WH_0x3e9', 'WH_0x3ea', 'WH_0x3eb', 'WH_0x3ec', 'WH_0x3ed',\n",
       "       'WH_0x3ee', 'WH_0x3ef', 'WH_0x3f1', 'WH_0x3f0', 'WH_0x3f2'],\n",
       "      dtype=object)"
      ]
     },
     "execution_count": 45,
     "metadata": {},
     "output_type": "execute_result"
    }
   ],
   "source": [
    "df_train['warehouse_ID'].unique()"
   ]
  },
  {
   "cell_type": "code",
   "execution_count": 46,
   "id": "1c24991b",
   "metadata": {
    "ExecuteTime": {
     "end_time": "2022-04-30T14:17:02.110488Z",
     "start_time": "2022-04-30T14:16:34.193438Z"
    },
    "scrolled": true
   },
   "outputs": [
    {
     "data": {
      "image/png": "[encoded data removed]",
      "text/plain": [
       "<Figure size 1080x360 with 1 Axes>"
      ]
     },
     "metadata": {
      "needs_background": "light"
     },
     "output_type": "display_data"
    }
   ],
   "source": [
    "plt.figure(figsize=(15,5))\n",
    "sns.lineplot(data=df_train[df_train['warehouse_ID'] == 'WH_0x3e9'], x='date', y='daily_dispatch_count')\n",
    "plt.savefig('daily_dispatch_count according to date only one warehouse.png')\n",
    "plt.show()"
   ]
  },
  {
   "cell_type": "markdown",
   "id": "6df56357",
   "metadata": {},
   "source": [
    "It was also not helping..."
   ]
  },
  {
   "cell_type": "markdown",
   "id": "520f4cf1",
   "metadata": {},
   "source": [
    "### weekly_dispatch_count\n",
    "Represents the number of items of a specific product type that are dispatched (in thousands) from a specific warehouse in the corresponding week, Note: The weekly_dispatch_count is calculated on Sundays.\n"
   ]
  },
  {
   "cell_type": "code",
   "execution_count": 47,
   "id": "bc364c87",
   "metadata": {
    "ExecuteTime": {
     "end_time": "2022-04-30T14:17:02.126447Z",
     "start_time": "2022-04-30T14:17:02.113480Z"
    }
   },
   "outputs": [
    {
     "data": {
      "text/plain": [
       "14272"
      ]
     },
     "execution_count": 47,
     "metadata": {},
     "output_type": "execute_result"
    }
   ],
   "source": [
    "df_train['weekly_dispatch_count'].isna().sum()"
   ]
  },
  {
   "cell_type": "markdown",
   "id": "653cca19",
   "metadata": {},
   "source": [
    "## Data Preparation"
   ]
  },
  {
   "cell_type": "code",
   "execution_count": 48,
   "id": "fa80e4f6",
   "metadata": {
    "ExecuteTime": {
     "end_time": "2022-04-30T14:17:02.158397Z",
     "start_time": "2022-04-30T14:17:02.129439Z"
    }
   },
   "outputs": [
    {
     "name": "stdout",
     "output_type": "stream",
     "text": [
      "<class 'pandas.core.frame.DataFrame'>\n",
      "RangeIndex: 16644 entries, 0 to 16643\n",
      "Data columns (total 12 columns):\n",
      " #   Column                 Non-Null Count  Dtype         \n",
      "---  ------                 --------------  -----         \n",
      " 0   ID                     16644 non-null  object        \n",
      " 1   date                   16644 non-null  datetime64[ns]\n",
      " 2   warehouse_ID           16644 non-null  object        \n",
      " 3   Latitude               16644 non-null  float64       \n",
      " 4   Longitude              16644 non-null  float64       \n",
      " 5   Product_Type           16644 non-null  object        \n",
      " 6   year                   16644 non-null  int64         \n",
      " 7   month                  16644 non-null  object        \n",
      " 8   is_weekend             16644 non-null  object        \n",
      " 9   is_warehouse_closed    16644 non-null  object        \n",
      " 10  daily_dispatch_count   16644 non-null  float64       \n",
      " 11  weekly_dispatch_count  2372 non-null   float64       \n",
      "dtypes: datetime64[ns](1), float64(4), int64(1), object(6)\n",
      "memory usage: 1.5+ MB\n"
     ]
    }
   ],
   "source": [
    "df_train.info()"
   ]
  },
  {
   "cell_type": "markdown",
   "id": "820d74f6",
   "metadata": {},
   "source": [
    "Now, convert all category data and object data into numeric format. Because of while run model of find pattern between features and target columns that time string data not valid. So, first do this by using `LabelEncoder`."
   ]
  },
  {
   "cell_type": "code",
   "execution_count": 49,
   "id": "c931b26a",
   "metadata": {
    "ExecuteTime": {
     "end_time": "2022-04-30T14:17:02.173322Z",
     "start_time": "2022-04-30T14:17:02.161352Z"
    }
   },
   "outputs": [],
   "source": [
    "def convert_all_data_in_numeric(dataset):\n",
    "    # load LoabelEncoder\n",
    "    from sklearn.preprocessing import LabelEncoder\n",
    "    #Create necessary dict..\n",
    "    labeled_data = {}\n",
    "    col_num = {}\n",
    "    new_data = {}\n",
    "\n",
    "    for colNo, column in enumerate(dataset.columns):\n",
    "        # Check is there Object data type..\n",
    "        if dataset[column].dtype == 'O':\n",
    "            col_num[column] = colNo\n",
    "            labeled_data[column] = LabelEncoder().fit(dataset[column])\n",
    "        # Check is there Date time format\n",
    "        elif str(dataset[column].dtype) == 'datetime64[ns]':\n",
    "            # Conver date in to day, week, weekday, quarter, year, month\n",
    "            # In this dataframe we have already year and month column so I skip this...\n",
    "            new_data['day'] = list(dataset['date'].dt.day)\n",
    "            new_data['week'] = list(dataset['date'].dt.isocalendar().week)\n",
    "            new_data['weekday'] = list(dataset['date'].dt.weekday)\n",
    "            new_data['quarter'] = list(dataset['date'].dt.quarter)\n",
    "        else:\n",
    "            # rest of column as it is...\n",
    "            new_data[column] = list(dataset[column])\n",
    "    # Now, all numeric columns make new dataframe\n",
    "    new_data = pd.DataFrame(new_data)    \n",
    "    # and all categories/object data trasforms into numeric format save in to new_data\n",
    "    for key, value in labeled_data.items():\n",
    "        z = value.transform(dataset[key])\n",
    "        new_data.insert(int(col_num[key]), key, z, True)\n",
    "    \n",
    "    return labeled_data, new_data"
   ]
  },
  {
   "cell_type": "code",
   "execution_count": 50,
   "id": "afe12e03",
   "metadata": {
    "ExecuteTime": {
     "end_time": "2022-04-30T14:17:02.417577Z",
     "start_time": "2022-04-30T14:17:02.176314Z"
    },
    "scrolled": false
   },
   "outputs": [
    {
     "data": {
      "text/html": [
       "<div>\n",
       "<style scoped>\n",
       "    .dataframe tbody tr th:only-of-type {\n",
       "        vertical-align: middle;\n",
       "    }\n",
       "\n",
       "    .dataframe tbody tr th {\n",
       "        vertical-align: top;\n",
       "    }\n",
       "\n",
       "    .dataframe thead th {\n",
       "        text-align: right;\n",
       "    }\n",
       "</style>\n",
       "<table border=\"1\" class=\"dataframe\">\n",
       "  <thead>\n",
       "    <tr style=\"text-align: right;\">\n",
       "      <th></th>\n",
       "      <th>ID</th>\n",
       "      <th>day</th>\n",
       "      <th>warehouse_ID</th>\n",
       "      <th>week</th>\n",
       "      <th>weekday</th>\n",
       "      <th>Product_Type</th>\n",
       "      <th>quarter</th>\n",
       "      <th>month</th>\n",
       "      <th>is_weekend</th>\n",
       "      <th>is_warehouse_closed</th>\n",
       "      <th>Latitude</th>\n",
       "      <th>Longitude</th>\n",
       "      <th>year</th>\n",
       "      <th>daily_dispatch_count</th>\n",
       "      <th>weekly_dispatch_count</th>\n",
       "    </tr>\n",
       "  </thead>\n",
       "  <tbody>\n",
       "    <tr>\n",
       "      <th>0</th>\n",
       "      <td>0</td>\n",
       "      <td>1</td>\n",
       "      <td>0</td>\n",
       "      <td>52</td>\n",
       "      <td>6</td>\n",
       "      <td>0</td>\n",
       "      <td>1</td>\n",
       "      <td>4</td>\n",
       "      <td>1</td>\n",
       "      <td>0</td>\n",
       "      <td>41.681471</td>\n",
       "      <td>-72.794746</td>\n",
       "      <td>2017</td>\n",
       "      <td>5.5</td>\n",
       "      <td>5.5</td>\n",
       "    </tr>\n",
       "    <tr>\n",
       "      <th>1</th>\n",
       "      <td>2796</td>\n",
       "      <td>1</td>\n",
       "      <td>1</td>\n",
       "      <td>52</td>\n",
       "      <td>6</td>\n",
       "      <td>0</td>\n",
       "      <td>1</td>\n",
       "      <td>4</td>\n",
       "      <td>1</td>\n",
       "      <td>0</td>\n",
       "      <td>38.749077</td>\n",
       "      <td>-105.183060</td>\n",
       "      <td>2017</td>\n",
       "      <td>6.1</td>\n",
       "      <td>6.1</td>\n",
       "    </tr>\n",
       "    <tr>\n",
       "      <th>2</th>\n",
       "      <td>1</td>\n",
       "      <td>2</td>\n",
       "      <td>0</td>\n",
       "      <td>1</td>\n",
       "      <td>0</td>\n",
       "      <td>0</td>\n",
       "      <td>1</td>\n",
       "      <td>4</td>\n",
       "      <td>0</td>\n",
       "      <td>0</td>\n",
       "      <td>41.681471</td>\n",
       "      <td>-72.794746</td>\n",
       "      <td>2017</td>\n",
       "      <td>4.8</td>\n",
       "      <td>NaN</td>\n",
       "    </tr>\n",
       "    <tr>\n",
       "      <th>3</th>\n",
       "      <td>2797</td>\n",
       "      <td>2</td>\n",
       "      <td>1</td>\n",
       "      <td>1</td>\n",
       "      <td>0</td>\n",
       "      <td>0</td>\n",
       "      <td>1</td>\n",
       "      <td>4</td>\n",
       "      <td>0</td>\n",
       "      <td>0</td>\n",
       "      <td>38.749077</td>\n",
       "      <td>-105.183060</td>\n",
       "      <td>2017</td>\n",
       "      <td>6.7</td>\n",
       "      <td>NaN</td>\n",
       "    </tr>\n",
       "    <tr>\n",
       "      <th>4</th>\n",
       "      <td>2</td>\n",
       "      <td>3</td>\n",
       "      <td>0</td>\n",
       "      <td>1</td>\n",
       "      <td>1</td>\n",
       "      <td>0</td>\n",
       "      <td>1</td>\n",
       "      <td>4</td>\n",
       "      <td>0</td>\n",
       "      <td>0</td>\n",
       "      <td>41.681471</td>\n",
       "      <td>-72.794746</td>\n",
       "      <td>2017</td>\n",
       "      <td>5.8</td>\n",
       "      <td>NaN</td>\n",
       "    </tr>\n",
       "    <tr>\n",
       "      <th>...</th>\n",
       "      <td>...</td>\n",
       "      <td>...</td>\n",
       "      <td>...</td>\n",
       "      <td>...</td>\n",
       "      <td>...</td>\n",
       "      <td>...</td>\n",
       "      <td>...</td>\n",
       "      <td>...</td>\n",
       "      <td>...</td>\n",
       "      <td>...</td>\n",
       "      <td>...</td>\n",
       "      <td>...</td>\n",
       "      <td>...</td>\n",
       "      <td>...</td>\n",
       "      <td>...</td>\n",
       "    </tr>\n",
       "    <tr>\n",
       "      <th>16639</th>\n",
       "      <td>15069</td>\n",
       "      <td>30</td>\n",
       "      <td>7</td>\n",
       "      <td>17</td>\n",
       "      <td>4</td>\n",
       "      <td>1</td>\n",
       "      <td>2</td>\n",
       "      <td>0</td>\n",
       "      <td>0</td>\n",
       "      <td>0</td>\n",
       "      <td>37.915825</td>\n",
       "      <td>-89.829262</td>\n",
       "      <td>2021</td>\n",
       "      <td>0.2</td>\n",
       "      <td>NaN</td>\n",
       "    </tr>\n",
       "    <tr>\n",
       "      <th>16640</th>\n",
       "      <td>15976</td>\n",
       "      <td>30</td>\n",
       "      <td>8</td>\n",
       "      <td>17</td>\n",
       "      <td>4</td>\n",
       "      <td>0</td>\n",
       "      <td>2</td>\n",
       "      <td>0</td>\n",
       "      <td>0</td>\n",
       "      <td>0</td>\n",
       "      <td>48.692551</td>\n",
       "      <td>-116.319862</td>\n",
       "      <td>2021</td>\n",
       "      <td>12.3</td>\n",
       "      <td>NaN</td>\n",
       "    </tr>\n",
       "    <tr>\n",
       "      <th>16641</th>\n",
       "      <td>15977</td>\n",
       "      <td>30</td>\n",
       "      <td>8</td>\n",
       "      <td>17</td>\n",
       "      <td>4</td>\n",
       "      <td>1</td>\n",
       "      <td>2</td>\n",
       "      <td>0</td>\n",
       "      <td>0</td>\n",
       "      <td>0</td>\n",
       "      <td>48.692551</td>\n",
       "      <td>-116.319862</td>\n",
       "      <td>2021</td>\n",
       "      <td>3.3</td>\n",
       "      <td>NaN</td>\n",
       "    </tr>\n",
       "    <tr>\n",
       "      <th>16642</th>\n",
       "      <td>16642</td>\n",
       "      <td>30</td>\n",
       "      <td>9</td>\n",
       "      <td>17</td>\n",
       "      <td>4</td>\n",
       "      <td>0</td>\n",
       "      <td>2</td>\n",
       "      <td>0</td>\n",
       "      <td>0</td>\n",
       "      <td>0</td>\n",
       "      <td>61.600803</td>\n",
       "      <td>-149.125259</td>\n",
       "      <td>2021</td>\n",
       "      <td>7.1</td>\n",
       "      <td>NaN</td>\n",
       "    </tr>\n",
       "    <tr>\n",
       "      <th>16643</th>\n",
       "      <td>16643</td>\n",
       "      <td>30</td>\n",
       "      <td>9</td>\n",
       "      <td>17</td>\n",
       "      <td>4</td>\n",
       "      <td>1</td>\n",
       "      <td>2</td>\n",
       "      <td>0</td>\n",
       "      <td>0</td>\n",
       "      <td>0</td>\n",
       "      <td>61.600803</td>\n",
       "      <td>-149.125259</td>\n",
       "      <td>2021</td>\n",
       "      <td>3.4</td>\n",
       "      <td>NaN</td>\n",
       "    </tr>\n",
       "  </tbody>\n",
       "</table>\n",
       "<p>16644 rows × 15 columns</p>\n",
       "</div>"
      ],
      "text/plain": [
       "          ID  day  warehouse_ID  week  weekday  Product_Type  quarter  month  \\\n",
       "0          0    1             0    52        6             0        1      4   \n",
       "1       2796    1             1    52        6             0        1      4   \n",
       "2          1    2             0     1        0             0        1      4   \n",
       "3       2797    2             1     1        0             0        1      4   \n",
       "4          2    3             0     1        1             0        1      4   \n",
       "...      ...  ...           ...   ...      ...           ...      ...    ...   \n",
       "16639  15069   30             7    17        4             1        2      0   \n",
       "16640  15976   30             8    17        4             0        2      0   \n",
       "16641  15977   30             8    17        4             1        2      0   \n",
       "16642  16642   30             9    17        4             0        2      0   \n",
       "16643  16643   30             9    17        4             1        2      0   \n",
       "\n",
       "       is_weekend  is_warehouse_closed   Latitude   Longitude  year  \\\n",
       "0               1                    0  41.681471  -72.794746  2017   \n",
       "1               1                    0  38.749077 -105.183060  2017   \n",
       "2               0                    0  41.681471  -72.794746  2017   \n",
       "3               0                    0  38.749077 -105.183060  2017   \n",
       "4               0                    0  41.681471  -72.794746  2017   \n",
       "...           ...                  ...        ...         ...   ...   \n",
       "16639           0                    0  37.915825  -89.829262  2021   \n",
       "16640           0                    0  48.692551 -116.319862  2021   \n",
       "16641           0                    0  48.692551 -116.319862  2021   \n",
       "16642           0                    0  61.600803 -149.125259  2021   \n",
       "16643           0                    0  61.600803 -149.125259  2021   \n",
       "\n",
       "       daily_dispatch_count  weekly_dispatch_count  \n",
       "0                       5.5                    5.5  \n",
       "1                       6.1                    6.1  \n",
       "2                       4.8                    NaN  \n",
       "3                       6.7                    NaN  \n",
       "4                       5.8                    NaN  \n",
       "...                     ...                    ...  \n",
       "16639                   0.2                    NaN  \n",
       "16640                  12.3                    NaN  \n",
       "16641                   3.3                    NaN  \n",
       "16642                   7.1                    NaN  \n",
       "16643                   3.4                    NaN  \n",
       "\n",
       "[16644 rows x 15 columns]"
      ]
     },
     "execution_count": 50,
     "metadata": {},
     "output_type": "execute_result"
    }
   ],
   "source": [
    "labeled, df_temp = convert_all_data_in_numeric(df_train)\n",
    "df_temp"
   ]
  },
  {
   "cell_type": "markdown",
   "id": "4b5ba849",
   "metadata": {},
   "source": [
    "> Plot correlation matrix..."
   ]
  },
  {
   "cell_type": "code",
   "execution_count": 76,
   "id": "1eb79bbd",
   "metadata": {
    "ExecuteTime": {
     "end_time": "2022-04-30T14:22:04.015745Z",
     "start_time": "2022-04-30T14:22:01.369176Z"
    }
   },
   "outputs": [
    {
     "data": {
      "image/png": "[encoded data removed]",
      "text/plain": [
       "<Figure size 1008x648 with 2 Axes>"
      ]
     },
     "metadata": {
      "needs_background": "light"
     },
     "output_type": "display_data"
    }
   ],
   "source": [
    "plt.figure(figsize=(14, 9))\n",
    "sns.heatmap(data=df_temp.corr(), annot=True, fmt='.2f', cmap='YlGnBu', linewidths=0.5)\n",
    "plt.savefig('correlation matrix.png')\n",
    "plt.show()"
   ]
  },
  {
   "cell_type": "markdown",
   "id": "a1ab07e8",
   "metadata": {},
   "source": [
    "### Split data into features and target columns"
   ]
  },
  {
   "cell_type": "markdown",
   "id": "9b840377",
   "metadata": {},
   "source": [
    "Split columns into features(`x`) and target(`y`) columns...\n",
    "\n",
    "In this dataframe first predict `daily_dispatch_count` and then after `weekly_dispatch_count`,  as well as we drop `ID` column from features column because of this is only unique identification of reported data..."
   ]
  },
  {
   "cell_type": "code",
   "execution_count": 52,
   "id": "09de97f6",
   "metadata": {
    "ExecuteTime": {
     "end_time": "2022-04-30T14:17:03.845981Z",
     "start_time": "2022-04-30T14:17:03.765087Z"
    }
   },
   "outputs": [
    {
     "data": {
      "text/plain": [
       "((16644, 12), (16644,))"
      ]
     },
     "execution_count": 52,
     "metadata": {},
     "output_type": "execute_result"
    }
   ],
   "source": [
    "x = df_temp.drop(columns=['ID', 'daily_dispatch_count', 'weekly_dispatch_count', ])\n",
    "y = df_temp['daily_dispatch_count']\n",
    "\n",
    "x.shape, y.shape"
   ]
  },
  {
   "cell_type": "markdown",
   "id": "ba4caacc",
   "metadata": {},
   "source": [
    "Now, split all data into two part Training data and Testing data by using train_test_split.\n",
    "\n",
    "Split training set and testing set by 90:10 ratio..."
   ]
  },
  {
   "cell_type": "code",
   "execution_count": 53,
   "id": "a243f9b6",
   "metadata": {
    "ExecuteTime": {
     "end_time": "2022-04-30T14:17:03.904428Z",
     "start_time": "2022-04-30T14:17:03.846371Z"
    }
   },
   "outputs": [
    {
     "data": {
      "text/plain": [
       "((14979, 12), (1665, 12), (14979,), (1665,))"
      ]
     },
     "execution_count": 53,
     "metadata": {},
     "output_type": "execute_result"
    }
   ],
   "source": [
    "from sklearn.model_selection import train_test_split\n",
    "\n",
    "x_train, x_test, y_train, y_test = train_test_split(x, y, test_size=.1, random_state=42)\n",
    "\n",
    "x_train.shape, x_test.shape, y_train.shape, y_test.shape"
   ]
  },
  {
   "cell_type": "markdown",
   "id": "a2f4572b",
   "metadata": {},
   "source": [
    "> On this data-frame we run Regression model, because our target column is continuous dependent variable from a number of independent(feature) variables. \n",
    "\n",
    "There are three model running \n",
    "1. `LinearRegressor`\n",
    "2. `RandomForestRegressor`\n",
    "3. `GradientBoostingRegerssor`\n",
    "\n",
    "And check its score(accuracy) value..."
   ]
  },
  {
   "cell_type": "code",
   "execution_count": 54,
   "id": "219d8e58",
   "metadata": {
    "ExecuteTime": {
     "end_time": "2022-04-30T14:17:04.035584Z",
     "start_time": "2022-04-30T14:17:03.904428Z"
    }
   },
   "outputs": [],
   "source": [
    "from sklearn.linear_model import LinearRegression\n",
    "from sklearn.ensemble import RandomForestRegressor, GradientBoostingRegressor\n",
    "\n",
    "def model_run(x_train=x_train, y_train=y_train, x_test=x_test, y_test=y_test):\n",
    "    \n",
    "    models_reg = {'LinearRegression' : LinearRegression(),\n",
    "                  'RandomForestRegressor' : RandomForestRegressor(),\n",
    "                  'GradientBoostingRegressor' : GradientBoostingRegressor()}\n",
    "    score = {}\n",
    "    \n",
    "    for model_name, model in models_reg.items():\n",
    "        # Fit the model\n",
    "        model.fit(x_train, y_train)\n",
    "        # Check score\n",
    "        score[model_name] = model.score(x_test, y_test)\n",
    "    \n",
    "    return score"
   ]
  },
  {
   "cell_type": "code",
   "execution_count": 55,
   "id": "6fb4c580",
   "metadata": {
    "ExecuteTime": {
     "end_time": "2022-04-30T14:17:09.921395Z",
     "start_time": "2022-04-30T14:17:04.037970Z"
    }
   },
   "outputs": [],
   "source": [
    "score = model_run()"
   ]
  },
  {
   "cell_type": "code",
   "execution_count": 56,
   "id": "840ad0cd",
   "metadata": {
    "ExecuteTime": {
     "end_time": "2022-04-30T14:17:09.937276Z",
     "start_time": "2022-04-30T14:17:09.921395Z"
    }
   },
   "outputs": [
    {
     "data": {
      "text/plain": [
       "{'LinearRegression': 0.6926662622091592,\n",
       " 'RandomForestRegressor': 0.8476727881918164,\n",
       " 'GradientBoostingRegressor': 0.8492725588865788}"
      ]
     },
     "execution_count": 56,
     "metadata": {},
     "output_type": "execute_result"
    }
   ],
   "source": [
    "score"
   ]
  },
  {
   "cell_type": "markdown",
   "id": "15bf12ee",
   "metadata": {},
   "source": [
    "As per result `GradientBoostingRegressor`'s performance it is much better then other model.\n",
    "\n",
    "So, we run `GradientBoostingRegressor` model separately..."
   ]
  },
  {
   "cell_type": "code",
   "execution_count": 57,
   "id": "debbdac1",
   "metadata": {
    "ExecuteTime": {
     "end_time": "2022-04-30T14:17:11.114594Z",
     "start_time": "2022-04-30T14:17:09.941559Z"
    }
   },
   "outputs": [
    {
     "data": {
      "text/plain": [
       "0.8492725588865788"
      ]
     },
     "execution_count": 57,
     "metadata": {},
     "output_type": "execute_result"
    }
   ],
   "source": [
    "model_gbr = GradientBoostingRegressor()\n",
    "model_gbr.fit(x_train, y_train)\n",
    "model_gbr.score(x_test, y_test)"
   ]
  },
  {
   "cell_type": "markdown",
   "id": "337ecabc",
   "metadata": {},
   "source": [
    "Hyper tunning model by using `RandomizedSearchCV`..."
   ]
  },
  {
   "cell_type": "code",
   "execution_count": 58,
   "id": "c70c33a5",
   "metadata": {
    "ExecuteTime": {
     "end_time": "2022-04-30T14:20:06.344921Z",
     "start_time": "2022-04-30T14:17:11.117961Z"
    }
   },
   "outputs": [
    {
     "data": {
      "text/plain": [
       "RandomizedSearchCV(cv=2, estimator=GradientBoostingRegressor(), n_jobs=1,\n",
       "                   param_distributions={'learning_rate': [0.001, 0.01, 0.1],\n",
       "                                        'max_depth': [1, 2, 4],\n",
       "                                        'n_estimators': [500, 1000, 2000],\n",
       "                                        'random_state': [1],\n",
       "                                        'subsample': [0.5, 0.75, 1]},\n",
       "                   scoring='neg_mean_squared_error')"
      ]
     },
     "execution_count": 58,
     "metadata": {},
     "output_type": "execute_result"
    }
   ],
   "source": [
    "from sklearn.model_selection import RandomizedSearchCV\n",
    "\n",
    "search_grid={'n_estimators':[500,1000,2000],\n",
    "             'learning_rate':[.001,0.01,.1],\n",
    "             'max_depth':[1,2,4],\n",
    "             'subsample':[.5,.75,1],\n",
    "             'random_state':[1]}\n",
    "\n",
    "rsv_gbr = RandomizedSearchCV(estimator=GradientBoostingRegressor(),\n",
    "                             param_distributions=search_grid,\n",
    "                             scoring='neg_mean_squared_error',\n",
    "                             n_jobs=1,\n",
    "                             cv=2)\n",
    "rsv_gbr.fit(x_train, y_train)"
   ]
  },
  {
   "cell_type": "markdown",
   "id": "0cbea388",
   "metadata": {},
   "source": [
    "Check Best parameters of this model"
   ]
  },
  {
   "cell_type": "code",
   "execution_count": 59,
   "id": "d83981df",
   "metadata": {
    "ExecuteTime": {
     "end_time": "2022-04-30T14:20:06.360917Z",
     "start_time": "2022-04-30T14:20:06.347948Z"
    }
   },
   "outputs": [
    {
     "data": {
      "text/plain": [
       "{'subsample': 0.75,\n",
       " 'random_state': 1,\n",
       " 'n_estimators': 2000,\n",
       " 'max_depth': 4,\n",
       " 'learning_rate': 0.01}"
      ]
     },
     "execution_count": 59,
     "metadata": {},
     "output_type": "execute_result"
    }
   ],
   "source": [
    "rsv_gbr.best_params_"
   ]
  },
  {
   "cell_type": "markdown",
   "id": "07a445b5",
   "metadata": {
    "ExecuteTime": {
     "end_time": "2022-04-25T05:52:47.924254Z",
     "start_time": "2022-04-25T05:52:47.853442Z"
    }
   },
   "source": [
    "Now, set this parameters of this model check their performance..."
   ]
  },
  {
   "cell_type": "code",
   "execution_count": 60,
   "id": "a1407591",
   "metadata": {
    "ExecuteTime": {
     "end_time": "2022-04-30T14:20:14.592924Z",
     "start_time": "2022-04-30T14:20:06.365423Z"
    }
   },
   "outputs": [
    {
     "data": {
      "text/plain": [
       "0.8599390538842221"
      ]
     },
     "execution_count": 60,
     "metadata": {},
     "output_type": "execute_result"
    }
   ],
   "source": [
    "model_gbr = GradientBoostingRegressor(subsample = 0.75,\n",
    "                                      random_state = 1,\n",
    "                                      n_estimators = 500, \n",
    "                                      max_depth = 4,\n",
    "                                      learning_rate = 0.1)\n",
    "model_gbr.fit(x_train, y_train)\n",
    "model_gbr.score(x_test, y_test)"
   ]
  },
  {
   "cell_type": "code",
   "execution_count": 61,
   "id": "8719c92e",
   "metadata": {
    "ExecuteTime": {
     "end_time": "2022-04-30T14:20:24.378790Z",
     "start_time": "2022-04-30T14:20:14.595919Z"
    }
   },
   "outputs": [
    {
     "data": {
      "text/plain": [
       "0.8615428956465788"
      ]
     },
     "execution_count": 61,
     "metadata": {},
     "output_type": "execute_result"
    }
   ],
   "source": [
    "model_gbr_1 = GradientBoostingRegressor(subsample = 1,\n",
    "                                      random_state = 1,\n",
    "                                      n_estimators = 500, \n",
    "                                      max_depth = 4,\n",
    "                                      learning_rate = 0.1)\n",
    "model_gbr_1.fit(x_train, y_train)\n",
    "model_gbr_1.score(x_test, y_test)"
   ]
  },
  {
   "cell_type": "code",
   "execution_count": 62,
   "id": "1f539b7d",
   "metadata": {
    "ExecuteTime": {
     "end_time": "2022-04-30T14:20:49.205209Z",
     "start_time": "2022-04-30T14:20:24.381783Z"
    }
   },
   "outputs": [
    {
     "data": {
      "text/plain": [
       "0.862251152177329"
      ]
     },
     "execution_count": 62,
     "metadata": {},
     "output_type": "execute_result"
    }
   ],
   "source": [
    "model_gbr_1 = GradientBoostingRegressor(subsample = .5,\n",
    "                                      random_state = 1,\n",
    "                                      n_estimators = 2000, \n",
    "                                      max_depth = 4,\n",
    "                                      learning_rate = 0.01)\n",
    "model_gbr_1.fit(x_train, y_train)\n",
    "model_gbr_1.score(x_test, y_test)"
   ]
  },
  {
   "cell_type": "markdown",
   "id": "37563c16",
   "metadata": {},
   "source": [
    "> Now, model is ready to predict for test dataset..\n",
    "\n",
    "Therefore,  make test data according feature value by filling all nun value, also convert all data into numeric formate and last make sure all data same as test input data..."
   ]
  },
  {
   "cell_type": "code",
   "execution_count": 63,
   "id": "2d0d4583",
   "metadata": {
    "ExecuteTime": {
     "end_time": "2022-04-30T14:20:49.919325Z",
     "start_time": "2022-04-30T14:20:49.216178Z"
    }
   },
   "outputs": [],
   "source": [
    "# filling missing value in test data\n",
    "\n",
    "# convert date format object to datetime format \n",
    "df_test['date'] = pd.DatetimeIndex(df_test['date'])\n",
    "\n",
    "# filling nan value by using warehouse_id and latitude, longitude dictionary...\n",
    "for i in range(len(df_test)):\n",
    "    if str(df_test['Latitude'][i]) == 'nan':\n",
    "        df_test.loc[i,'Latitude'] = latitude_warehouse_ID[df_test['warehouse_ID'][i]]\n",
    "    if str(df_test['Longitude'][i]) == 'nan':\n",
    "        df_test.loc[i,'Longitude'] = longitude_warehouse_ID[df_test['warehouse_ID'][i]]\n",
    "\n",
    "# fill null value using weekday\n",
    "is_weekend_dict = {'Sunday': 'Yes', 'Monday': 'No', 'Tuesday':'No', 'Wednesday':'No', 'Thursday':'No', 'Friday':'No',\n",
    "                   'Saturday':'No'}\n",
    "for i in range(len(df_test)):\n",
    "    if str(df_test['is_weekend'][i]) == 'nan':\n",
    "        df_test.loc[i,'is_weekend'] = is_weekend_dict[df_test['date'].dt.day_name()[i]]\n",
    "\n",
    "# fill null value by randomly but using same ratio of data is already present\n",
    "# In test data we fill this null value by using target column but in this data we don't have \n",
    "# that's why we use randomly data filled by existing ratio...\n",
    "df_test['is_warehouse_closed'].fillna(pd.Series(\n",
    "    np.random.choice(['Yes', 'No'],\n",
    "                     p=[df_test['is_warehouse_closed'].value_counts(normalize=True)['Yes'],\n",
    "                        df_test['is_warehouse_closed'].value_counts(normalize=True)['No']], \n",
    "                     size=len(df_test))), inplace=True)"
   ]
  },
  {
   "cell_type": "code",
   "execution_count": 64,
   "id": "a29b54c2",
   "metadata": {
    "ExecuteTime": {
     "end_time": "2022-04-30T14:20:49.983139Z",
     "start_time": "2022-04-30T14:20:49.922807Z"
    }
   },
   "outputs": [
    {
     "data": {
      "text/html": [
       "<div>\n",
       "<style scoped>\n",
       "    .dataframe tbody tr th:only-of-type {\n",
       "        vertical-align: middle;\n",
       "    }\n",
       "\n",
       "    .dataframe tbody tr th {\n",
       "        vertical-align: top;\n",
       "    }\n",
       "\n",
       "    .dataframe thead th {\n",
       "        text-align: right;\n",
       "    }\n",
       "</style>\n",
       "<table border=\"1\" class=\"dataframe\">\n",
       "  <thead>\n",
       "    <tr style=\"text-align: right;\">\n",
       "      <th></th>\n",
       "      <th>day</th>\n",
       "      <th>warehouse_ID</th>\n",
       "      <th>week</th>\n",
       "      <th>weekday</th>\n",
       "      <th>Product_Type</th>\n",
       "      <th>quarter</th>\n",
       "      <th>month</th>\n",
       "      <th>is_weekend</th>\n",
       "      <th>is_warehouse_closed</th>\n",
       "      <th>Latitude</th>\n",
       "      <th>Longitude</th>\n",
       "      <th>year</th>\n",
       "    </tr>\n",
       "  </thead>\n",
       "  <tbody>\n",
       "    <tr>\n",
       "      <th>0</th>\n",
       "      <td>1</td>\n",
       "      <td>0</td>\n",
       "      <td>17</td>\n",
       "      <td>5</td>\n",
       "      <td>0</td>\n",
       "      <td>2</td>\n",
       "      <td>4</td>\n",
       "      <td>0</td>\n",
       "      <td>0</td>\n",
       "      <td>41.681471</td>\n",
       "      <td>-72.794746</td>\n",
       "      <td>2021</td>\n",
       "    </tr>\n",
       "    <tr>\n",
       "      <th>1</th>\n",
       "      <td>1</td>\n",
       "      <td>0</td>\n",
       "      <td>17</td>\n",
       "      <td>5</td>\n",
       "      <td>1</td>\n",
       "      <td>2</td>\n",
       "      <td>4</td>\n",
       "      <td>1</td>\n",
       "      <td>0</td>\n",
       "      <td>41.681471</td>\n",
       "      <td>-72.794746</td>\n",
       "      <td>2021</td>\n",
       "    </tr>\n",
       "    <tr>\n",
       "      <th>2</th>\n",
       "      <td>1</td>\n",
       "      <td>1</td>\n",
       "      <td>17</td>\n",
       "      <td>5</td>\n",
       "      <td>0</td>\n",
       "      <td>2</td>\n",
       "      <td>4</td>\n",
       "      <td>1</td>\n",
       "      <td>0</td>\n",
       "      <td>38.749077</td>\n",
       "      <td>-105.183060</td>\n",
       "      <td>2021</td>\n",
       "    </tr>\n",
       "    <tr>\n",
       "      <th>3</th>\n",
       "      <td>1</td>\n",
       "      <td>1</td>\n",
       "      <td>17</td>\n",
       "      <td>5</td>\n",
       "      <td>1</td>\n",
       "      <td>2</td>\n",
       "      <td>4</td>\n",
       "      <td>1</td>\n",
       "      <td>0</td>\n",
       "      <td>38.749077</td>\n",
       "      <td>-105.183060</td>\n",
       "      <td>2021</td>\n",
       "    </tr>\n",
       "    <tr>\n",
       "      <th>4</th>\n",
       "      <td>1</td>\n",
       "      <td>2</td>\n",
       "      <td>17</td>\n",
       "      <td>5</td>\n",
       "      <td>0</td>\n",
       "      <td>2</td>\n",
       "      <td>4</td>\n",
       "      <td>1</td>\n",
       "      <td>1</td>\n",
       "      <td>35.678970</td>\n",
       "      <td>-109.067413</td>\n",
       "      <td>2021</td>\n",
       "    </tr>\n",
       "    <tr>\n",
       "      <th>...</th>\n",
       "      <td>...</td>\n",
       "      <td>...</td>\n",
       "      <td>...</td>\n",
       "      <td>...</td>\n",
       "      <td>...</td>\n",
       "      <td>...</td>\n",
       "      <td>...</td>\n",
       "      <td>...</td>\n",
       "      <td>...</td>\n",
       "      <td>...</td>\n",
       "      <td>...</td>\n",
       "      <td>...</td>\n",
       "    </tr>\n",
       "    <tr>\n",
       "      <th>4895</th>\n",
       "      <td>31</td>\n",
       "      <td>7</td>\n",
       "      <td>52</td>\n",
       "      <td>4</td>\n",
       "      <td>1</td>\n",
       "      <td>4</td>\n",
       "      <td>1</td>\n",
       "      <td>0</td>\n",
       "      <td>1</td>\n",
       "      <td>37.915825</td>\n",
       "      <td>-89.829262</td>\n",
       "      <td>2021</td>\n",
       "    </tr>\n",
       "    <tr>\n",
       "      <th>4896</th>\n",
       "      <td>31</td>\n",
       "      <td>8</td>\n",
       "      <td>52</td>\n",
       "      <td>4</td>\n",
       "      <td>0</td>\n",
       "      <td>4</td>\n",
       "      <td>1</td>\n",
       "      <td>0</td>\n",
       "      <td>0</td>\n",
       "      <td>48.692551</td>\n",
       "      <td>-116.319862</td>\n",
       "      <td>2021</td>\n",
       "    </tr>\n",
       "    <tr>\n",
       "      <th>4897</th>\n",
       "      <td>31</td>\n",
       "      <td>8</td>\n",
       "      <td>52</td>\n",
       "      <td>4</td>\n",
       "      <td>1</td>\n",
       "      <td>4</td>\n",
       "      <td>1</td>\n",
       "      <td>0</td>\n",
       "      <td>1</td>\n",
       "      <td>48.692551</td>\n",
       "      <td>-116.319862</td>\n",
       "      <td>2021</td>\n",
       "    </tr>\n",
       "    <tr>\n",
       "      <th>4898</th>\n",
       "      <td>31</td>\n",
       "      <td>9</td>\n",
       "      <td>52</td>\n",
       "      <td>4</td>\n",
       "      <td>0</td>\n",
       "      <td>4</td>\n",
       "      <td>1</td>\n",
       "      <td>0</td>\n",
       "      <td>0</td>\n",
       "      <td>61.600803</td>\n",
       "      <td>-149.125259</td>\n",
       "      <td>2021</td>\n",
       "    </tr>\n",
       "    <tr>\n",
       "      <th>4899</th>\n",
       "      <td>31</td>\n",
       "      <td>9</td>\n",
       "      <td>52</td>\n",
       "      <td>4</td>\n",
       "      <td>1</td>\n",
       "      <td>4</td>\n",
       "      <td>1</td>\n",
       "      <td>0</td>\n",
       "      <td>1</td>\n",
       "      <td>61.600803</td>\n",
       "      <td>-149.125259</td>\n",
       "      <td>2021</td>\n",
       "    </tr>\n",
       "  </tbody>\n",
       "</table>\n",
       "<p>4900 rows × 12 columns</p>\n",
       "</div>"
      ],
      "text/plain": [
       "      day  warehouse_ID  week  weekday  Product_Type  quarter  month  \\\n",
       "0       1             0    17        5             0        2      4   \n",
       "1       1             0    17        5             1        2      4   \n",
       "2       1             1    17        5             0        2      4   \n",
       "3       1             1    17        5             1        2      4   \n",
       "4       1             2    17        5             0        2      4   \n",
       "...   ...           ...   ...      ...           ...      ...    ...   \n",
       "4895   31             7    52        4             1        4      1   \n",
       "4896   31             8    52        4             0        4      1   \n",
       "4897   31             8    52        4             1        4      1   \n",
       "4898   31             9    52        4             0        4      1   \n",
       "4899   31             9    52        4             1        4      1   \n",
       "\n",
       "      is_weekend  is_warehouse_closed   Latitude   Longitude  year  \n",
       "0              0                    0  41.681471  -72.794746  2021  \n",
       "1              1                    0  41.681471  -72.794746  2021  \n",
       "2              1                    0  38.749077 -105.183060  2021  \n",
       "3              1                    0  38.749077 -105.183060  2021  \n",
       "4              1                    1  35.678970 -109.067413  2021  \n",
       "...          ...                  ...        ...         ...   ...  \n",
       "4895           0                    1  37.915825  -89.829262  2021  \n",
       "4896           0                    0  48.692551 -116.319862  2021  \n",
       "4897           0                    1  48.692551 -116.319862  2021  \n",
       "4898           0                    0  61.600803 -149.125259  2021  \n",
       "4899           0                    1  61.600803 -149.125259  2021  \n",
       "\n",
       "[4900 rows x 12 columns]"
      ]
     },
     "execution_count": 64,
     "metadata": {},
     "output_type": "execute_result"
    }
   ],
   "source": [
    "# Now, convert all data into numeric format...\n",
    "test_labeled, test_temp = convert_all_data_in_numeric(df_test)\n",
    "# Drop ID column from test data \n",
    "test_temp.drop(columns='ID', inplace=True)\n",
    "test_temp"
   ]
  },
  {
   "cell_type": "code",
   "execution_count": 65,
   "id": "928682de",
   "metadata": {
    "ExecuteTime": {
     "end_time": "2022-04-30T14:20:50.124851Z",
     "start_time": "2022-04-30T14:20:49.986117Z"
    }
   },
   "outputs": [
    {
     "data": {
      "text/plain": [
       "array([4.62848292, 2.32553113, 6.50016991, ..., 0.10196797, 5.92445952,\n",
       "       0.49934326])"
      ]
     },
     "execution_count": 65,
     "metadata": {},
     "output_type": "execute_result"
    }
   ],
   "source": [
    "# predict all data\n",
    "\n",
    "y_pred = model_gbr_1.predict(test_temp)\n",
    "y_pred"
   ]
  },
  {
   "cell_type": "markdown",
   "id": "bf76f144",
   "metadata": {},
   "source": [
    "Now load all data into `df_test` as `daily_dispatch_count` and there are some negative value is present in this prediction, therefore convert into positive value by using _absolute_ function... "
   ]
  },
  {
   "cell_type": "code",
   "execution_count": 66,
   "id": "18ad759b",
   "metadata": {
    "ExecuteTime": {
     "end_time": "2022-04-30T14:20:50.140149Z",
     "start_time": "2022-04-30T14:20:50.127739Z"
    }
   },
   "outputs": [],
   "source": [
    "df_test['week'] = df_test['date'].dt.isocalendar().week\n",
    "df_test['daily_dispatch_count'] = y_pred\n",
    "df_test['daily_dispatch_count'] = df_test['daily_dispatch_count'].abs()"
   ]
  },
  {
   "cell_type": "markdown",
   "id": "6a192bbc",
   "metadata": {},
   "source": [
    "Now, to calculate `weekly_dispatch_count` we have to unique identification of Each `week`, according their `warehouse_ID` also according to `Product_Type` and lastly their `Year`.\n",
    "\n",
    "Therefore, make new column `Product_Type_warehouse_ID_week_year`."
   ]
  },
  {
   "cell_type": "code",
   "execution_count": 67,
   "id": "6c95541a",
   "metadata": {
    "ExecuteTime": {
     "end_time": "2022-04-30T14:20:50.171622Z",
     "start_time": "2022-04-30T14:20:50.143698Z"
    }
   },
   "outputs": [],
   "source": [
    "df_test['Product_Type_warehouse_ID_week_year'] = df_test['Product_Type'] + '_' + df_test['warehouse_ID'] + '_' + df_test['week'].astype(str) + '-' + df_test['year'].astype(str)"
   ]
  },
  {
   "cell_type": "markdown",
   "id": "6f762531",
   "metadata": {},
   "source": [
    "Now, create new dataset and get all sum value of `daily_dispatch_count` by their `Product_Type_warehouse_ID_week_year`"
   ]
  },
  {
   "cell_type": "code",
   "execution_count": 68,
   "id": "522f5f6f",
   "metadata": {
    "ExecuteTime": {
     "end_time": "2022-04-30T14:20:50.187579Z",
     "start_time": "2022-04-30T14:20:50.174656Z"
    }
   },
   "outputs": [],
   "source": [
    "x = df_test.groupby(['Product_Type_warehouse_ID_week_year'])['daily_dispatch_count'].sum().reset_index()"
   ]
  },
  {
   "cell_type": "markdown",
   "id": "4e334b13",
   "metadata": {},
   "source": [
    "Now, Create null value column in df_test.."
   ]
  },
  {
   "cell_type": "code",
   "execution_count": 69,
   "id": "0694d651",
   "metadata": {
    "ExecuteTime": {
     "end_time": "2022-04-30T14:20:50.203538Z",
     "start_time": "2022-04-30T14:20:50.190571Z"
    }
   },
   "outputs": [],
   "source": [
    "df_test['weekly_dispatch_count'] = np.nan"
   ]
  },
  {
   "cell_type": "markdown",
   "id": "ad68eeb4",
   "metadata": {},
   "source": [
    "Save all data from x_ dictionary and save all sum value of `daily_dispatch_count` and create key value as `Product_Type_warehouse_ID_week_year`."
   ]
  },
  {
   "cell_type": "code",
   "execution_count": 70,
   "id": "594a5282",
   "metadata": {
    "ExecuteTime": {
     "end_time": "2022-04-30T14:20:50.235450Z",
     "start_time": "2022-04-30T14:20:50.207527Z"
    }
   },
   "outputs": [],
   "source": [
    "x_ = {}\n",
    "for i in range(len(x)):\n",
    "    x_[x['Product_Type_warehouse_ID_week_year'][i]] = x['daily_dispatch_count'][i]"
   ]
  },
  {
   "cell_type": "markdown",
   "id": "8812a8d1",
   "metadata": {},
   "source": [
    "Now save all data into `weekly_dispatch_count` column from `x_` dictionary..."
   ]
  },
  {
   "cell_type": "code",
   "execution_count": 71,
   "id": "ff6ce53b",
   "metadata": {
    "ExecuteTime": {
     "end_time": "2022-04-30T14:20:51.790292Z",
     "start_time": "2022-04-30T14:20:50.237445Z"
    },
    "scrolled": true
   },
   "outputs": [],
   "source": [
    "for i in range(len(df_test)):\n",
    "    df_test.loc[i,'weekly_dispatch_count'] = x_[df_test['Product_Type_warehouse_ID_week_year'][i]]"
   ]
  },
  {
   "cell_type": "markdown",
   "id": "49093ef3",
   "metadata": {},
   "source": [
    "Now load `submission_weekly.csv` for submit..."
   ]
  },
  {
   "cell_type": "code",
   "execution_count": 72,
   "id": "cd24099d",
   "metadata": {
    "ExecuteTime": {
     "end_time": "2022-04-30T14:20:52.233181Z",
     "start_time": "2022-04-30T14:20:51.792816Z"
    }
   },
   "outputs": [],
   "source": [
    "df_sub = pd.read_csv('dataset/submission_weekly.csv')"
   ]
  },
  {
   "cell_type": "markdown",
   "id": "541077c0",
   "metadata": {},
   "source": [
    "Now, save all `weekly_dispatch_count` when Customer's ID match in both dataframe."
   ]
  },
  {
   "cell_type": "code",
   "execution_count": 73,
   "id": "2acbe5c6",
   "metadata": {
    "ExecuteTime": {
     "end_time": "2022-04-30T14:20:53.834320Z",
     "start_time": "2022-04-30T14:20:52.237098Z"
    },
    "scrolled": true
   },
   "outputs": [],
   "source": [
    "for i in range(len(df_sub)):\n",
    "    \n",
    "    df_sub.loc[i,'weekly_dispatch_count'] = float(df_test[df_test['ID'] == str(df_sub['ID'][i])]['weekly_dispatch_count'].values)"
   ]
  },
  {
   "cell_type": "code",
   "execution_count": 74,
   "id": "525bd6ca",
   "metadata": {
    "ExecuteTime": {
     "end_time": "2022-04-30T14:20:53.865251Z",
     "start_time": "2022-04-30T14:20:53.837817Z"
    }
   },
   "outputs": [
    {
     "data": {
      "text/html": [
       "<div>\n",
       "<style scoped>\n",
       "    .dataframe tbody tr th:only-of-type {\n",
       "        vertical-align: middle;\n",
       "    }\n",
       "\n",
       "    .dataframe tbody tr th {\n",
       "        vertical-align: top;\n",
       "    }\n",
       "\n",
       "    .dataframe thead th {\n",
       "        text-align: right;\n",
       "    }\n",
       "</style>\n",
       "<table border=\"1\" class=\"dataframe\">\n",
       "  <thead>\n",
       "    <tr style=\"text-align: right;\">\n",
       "      <th></th>\n",
       "      <th>ID</th>\n",
       "      <th>weekly_dispatch_count</th>\n",
       "    </tr>\n",
       "  </thead>\n",
       "  <tbody>\n",
       "    <tr>\n",
       "      <th>0</th>\n",
       "      <td>0x31fe</td>\n",
       "      <td>9.172774</td>\n",
       "    </tr>\n",
       "    <tr>\n",
       "      <th>1</th>\n",
       "      <td>0x31ff</td>\n",
       "      <td>4.440677</td>\n",
       "    </tr>\n",
       "    <tr>\n",
       "      <th>2</th>\n",
       "      <td>0x3ed4</td>\n",
       "      <td>13.430323</td>\n",
       "    </tr>\n",
       "    <tr>\n",
       "      <th>3</th>\n",
       "      <td>0x3ed5</td>\n",
       "      <td>5.596243</td>\n",
       "    </tr>\n",
       "    <tr>\n",
       "      <th>4</th>\n",
       "      <td>0x4a3c</td>\n",
       "      <td>8.151876</td>\n",
       "    </tr>\n",
       "    <tr>\n",
       "      <th>...</th>\n",
       "      <td>...</td>\n",
       "      <td>...</td>\n",
       "    </tr>\n",
       "    <tr>\n",
       "      <th>695</th>\n",
       "      <td>0x7133</td>\n",
       "      <td>13.113366</td>\n",
       "    </tr>\n",
       "    <tr>\n",
       "      <th>696</th>\n",
       "      <td>0x76a8</td>\n",
       "      <td>25.339209</td>\n",
       "    </tr>\n",
       "    <tr>\n",
       "      <th>697</th>\n",
       "      <td>0x76a9</td>\n",
       "      <td>4.262946</td>\n",
       "    </tr>\n",
       "    <tr>\n",
       "      <th>698</th>\n",
       "      <td>0x7b2c</td>\n",
       "      <td>27.246774</td>\n",
       "    </tr>\n",
       "    <tr>\n",
       "      <th>699</th>\n",
       "      <td>0x7b2d</td>\n",
       "      <td>6.903986</td>\n",
       "    </tr>\n",
       "  </tbody>\n",
       "</table>\n",
       "<p>700 rows × 2 columns</p>\n",
       "</div>"
      ],
      "text/plain": [
       "         ID  weekly_dispatch_count\n",
       "0    0x31fe               9.172774\n",
       "1    0x31ff               4.440677\n",
       "2    0x3ed4              13.430323\n",
       "3    0x3ed5               5.596243\n",
       "4    0x4a3c               8.151876\n",
       "..      ...                    ...\n",
       "695  0x7133              13.113366\n",
       "696  0x76a8              25.339209\n",
       "697  0x76a9               4.262946\n",
       "698  0x7b2c              27.246774\n",
       "699  0x7b2d               6.903986\n",
       "\n",
       "[700 rows x 2 columns]"
      ]
     },
     "execution_count": 74,
     "metadata": {},
     "output_type": "execute_result"
    }
   ],
   "source": [
    "df_sub"
   ]
  },
  {
   "cell_type": "markdown",
   "id": "37a74795",
   "metadata": {},
   "source": [
    "Now, save final output this file as a `.csv`."
   ]
  },
  {
   "cell_type": "code",
   "execution_count": 75,
   "id": "5b4e4c7d",
   "metadata": {
    "ExecuteTime": {
     "end_time": "2022-04-30T14:20:53.895846Z",
     "start_time": "2022-04-30T14:20:53.868734Z"
    }
   },
   "outputs": [],
   "source": [
    "df_sub.to_csv('submission_weekly.csv', index=False)"
   ]
  },
  {
   "cell_type": "code",
   "execution_count": null,
   "id": "991de463",
   "metadata": {},
   "outputs": [],
   "source": []
  }
 ],
 "metadata": {
  "kernelspec": {
   "display_name": "Python 3 (ipykernel)",
   "language": "python",
   "name": "python3"
  },
  "language_info": {
   "codemirror_mode": {
    "name": "ipython",
    "version": 3
   },
   "file_extension": ".py",
   "mimetype": "text/x-python",
   "name": "python",
   "nbconvert_exporter": "python",
   "pygments_lexer": "ipython3",
   "version": "3.9.9"
  },
  "latex_envs": {
   "LaTeX_envs_menu_present": true,
   "autoclose": false,
   "autocomplete": true,
   "bibliofile": "biblio.bib",
   "cite_by": "apalike",
   "current_citInitial": 1,
   "eqLabelWithNumbers": true,
   "eqNumInitial": 1,
   "hotkeys": {
    "equation": "Ctrl-E",
    "itemize": "Ctrl-I"
   },
   "labels_anchors": false,
   "latex_user_defs": false,
   "report_style_numbering": false,
   "user_envs_cfg": false
  },
  "toc": {
   "base_numbering": 1,
   "nav_menu": {},
   "number_sections": true,
   "sideBar": true,
   "skip_h1_title": false,
   "title_cell": "Table of Contents",
   "title_sidebar": "Contents",
   "toc_cell": false,
   "toc_position": {},
   "toc_section_display": true,
   "toc_window_display": false
  },
  "varInspector": {
   "cols": {
    "lenName": 16,
    "lenType": 16,
    "lenVar": 40
   },
   "kernels_config": {
    "python": {
     "delete_cmd_postfix": "",
     "delete_cmd_prefix": "del ",
     "library": "var_list.py",
     "varRefreshCmd": "print(var_dic_list())"
    },
    "r": {
     "delete_cmd_postfix": ") ",
     "delete_cmd_prefix": "rm(",
     "library": "var_list.r",
     "varRefreshCmd": "cat(var_dic_list()) "
    }
   },
   "types_to_exclude": [
    "module",
    "function",
    "builtin_function_or_method",
    "instance",
    "_Feature"
   ],
   "window_display": false
  }
 },
 "nbformat": 4,
 "nbformat_minor": 5
}
